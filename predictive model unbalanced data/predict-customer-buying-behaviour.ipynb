{
 "cells": [
  {
   "cell_type": "markdown",
   "id": "2c03b372",
   "metadata": {
    "id": "view-in-github",
    "papermill": {
     "duration": 0.008335,
     "end_time": "2023-04-02T12:54:51.211142",
     "exception": false,
     "start_time": "2023-04-02T12:54:51.202807",
     "status": "completed"
    },
    "tags": []
   },
   "source": [
    "<a href=\"https://colab.research.google.com/github/Kavya2099/British-Airways-virtual-internship/blob/main/British_Airways_Task2.ipynb\" target=\"_parent\"><img src=\"https://colab.research.google.com/assets/colab-badge.svg\" alt=\"Open In Colab\"/></a>"
   ]
  },
  {
   "cell_type": "markdown",
   "id": "fe39b1fe",
   "metadata": {
    "id": "_prEVJqDc8yH",
    "papermill": {
     "duration": 0.006742,
     "end_time": "2023-04-02T12:54:51.225102",
     "exception": false,
     "start_time": "2023-04-02T12:54:51.218360",
     "status": "completed"
    },
    "tags": []
   },
   "source": [
    "#  Predict customer buying behaviour"
   ]
  },
  {
   "cell_type": "markdown",
   "id": "402ab44b",
   "metadata": {
    "id": "dzlj4GKxNH6H",
    "papermill": {
     "duration": 0.006786,
     "end_time": "2023-04-02T12:54:51.238833",
     "exception": false,
     "start_time": "2023-04-02T12:54:51.232047",
     "status": "completed"
    },
    "tags": []
   },
   "source": [
    "get data"
   ]
  },
  {
   "cell_type": "code",
   "execution_count": 1,
   "id": "1e38342c",
   "metadata": {
    "execution": {
     "iopub.execute_input": "2023-04-02T12:54:51.254921Z",
     "iopub.status.busy": "2023-04-02T12:54:51.254218Z",
     "iopub.status.idle": "2023-04-02T12:54:52.323166Z",
     "shell.execute_reply": "2023-04-02T12:54:52.321793Z"
    },
    "id": "UOXjfMLc04tD",
    "papermill": {
     "duration": 1.080308,
     "end_time": "2023-04-02T12:54:52.326066",
     "exception": false,
     "start_time": "2023-04-02T12:54:51.245758",
     "status": "completed"
    },
    "tags": []
   },
   "outputs": [],
   "source": [
    "%matplotlib inline\n",
    "\n",
    "import pandas as pd\n",
    "import numpy as np\n",
    "import matplotlib.pyplot as plt\n",
    "import seaborn as sns\n",
    "\n",
    "import warnings\n",
    "warnings.filterwarnings(\"ignore\")"
   ]
  },
  {
   "cell_type": "code",
   "execution_count": 2,
   "id": "acb36fad",
   "metadata": {
    "execution": {
     "iopub.execute_input": "2023-04-02T12:54:52.342649Z",
     "iopub.status.busy": "2023-04-02T12:54:52.341573Z",
     "iopub.status.idle": "2023-04-02T12:54:52.347264Z",
     "shell.execute_reply": "2023-04-02T12:54:52.346211Z"
    },
    "id": "RzQ7IcNFNeH0",
    "papermill": {
     "duration": 0.016246,
     "end_time": "2023-04-02T12:54:52.349596",
     "exception": false,
     "start_time": "2023-04-02T12:54:52.333350",
     "status": "completed"
    },
    "tags": []
   },
   "outputs": [],
   "source": [
    "data= '/kaggle/input/airways-customer-data/customer_airways_data.csv'\n"
   ]
  },
  {
   "cell_type": "code",
   "execution_count": 3,
   "id": "fc36f407",
   "metadata": {
    "execution": {
     "iopub.execute_input": "2023-04-02T12:54:52.364721Z",
     "iopub.status.busy": "2023-04-02T12:54:52.364367Z",
     "iopub.status.idle": "2023-04-02T12:55:06.037918Z",
     "shell.execute_reply": "2023-04-02T12:55:06.036858Z"
    },
    "id": "eaOUJcHQOhDe",
    "outputId": "5066c5a9-f03e-410a-ae57-3cc54076189f",
    "papermill": {
     "duration": 13.684281,
     "end_time": "2023-04-02T12:55:06.040567",
     "exception": false,
     "start_time": "2023-04-02T12:54:52.356286",
     "status": "completed"
    },
    "tags": []
   },
   "outputs": [
    {
     "name": "stdout",
     "output_type": "stream",
     "text": [
      "Collecting chardet\r\n",
      "  Downloading chardet-5.1.0-py3-none-any.whl (199 kB)\r\n",
      "\u001b[2K     \u001b[90m━━━━━━━━━━━━━━━━━━━━━━━━━━━━━━━━━━━━━━━\u001b[0m \u001b[32m199.1/199.1 kB\u001b[0m \u001b[31m4.9 MB/s\u001b[0m eta \u001b[36m0:00:00\u001b[0m\r\n",
      "\u001b[?25hInstalling collected packages: chardet\r\n",
      "Successfully installed chardet-5.1.0\r\n",
      "\u001b[33mWARNING: Running pip as the 'root' user can result in broken permissions and conflicting behaviour with the system package manager. It is recommended to use a virtual environment instead: https://pip.pypa.io/warnings/venv\u001b[0m\u001b[33m\r\n",
      "\u001b[0m{'encoding': 'ISO-8859-1', 'confidence': 0.73, 'language': ''}\n"
     ]
    }
   ],
   "source": [
    "!pip install chardet\n",
    "import chardet\n",
    "\n",
    "with open('/kaggle/input/airways-customer-data/customer_airways_data.csv', 'rb') as rawdata:\n",
    "  result = chardet.detect(rawdata.read(100000))\n",
    "\n",
    "print(result)"
   ]
  },
  {
   "cell_type": "code",
   "execution_count": 4,
   "id": "964e7a3b",
   "metadata": {
    "execution": {
     "iopub.execute_input": "2023-04-02T12:55:06.057101Z",
     "iopub.status.busy": "2023-04-02T12:55:06.056711Z",
     "iopub.status.idle": "2023-04-02T12:55:06.217573Z",
     "shell.execute_reply": "2023-04-02T12:55:06.216691Z"
    },
    "id": "XPoUFUywNNIV",
    "papermill": {
     "duration": 0.17209,
     "end_time": "2023-04-02T12:55:06.220165",
     "exception": false,
     "start_time": "2023-04-02T12:55:06.048075",
     "status": "completed"
    },
    "tags": []
   },
   "outputs": [],
   "source": [
    "df= pd.read_csv(data, encoding='ISO-8859-1')"
   ]
  },
  {
   "cell_type": "code",
   "execution_count": 5,
   "id": "c5628535",
   "metadata": {
    "execution": {
     "iopub.execute_input": "2023-04-02T12:55:06.236667Z",
     "iopub.status.busy": "2023-04-02T12:55:06.236238Z",
     "iopub.status.idle": "2023-04-02T12:55:06.267064Z",
     "shell.execute_reply": "2023-04-02T12:55:06.265845Z"
    },
    "id": "cFOVMUO9NfwF",
    "outputId": "b1d2e810-dfba-4ccc-a453-411f95954268",
    "papermill": {
     "duration": 0.041821,
     "end_time": "2023-04-02T12:55:06.269562",
     "exception": false,
     "start_time": "2023-04-02T12:55:06.227741",
     "status": "completed"
    },
    "tags": []
   },
   "outputs": [
    {
     "data": {
      "text/html": [
       "<div>\n",
       "<style scoped>\n",
       "    .dataframe tbody tr th:only-of-type {\n",
       "        vertical-align: middle;\n",
       "    }\n",
       "\n",
       "    .dataframe tbody tr th {\n",
       "        vertical-align: top;\n",
       "    }\n",
       "\n",
       "    .dataframe thead th {\n",
       "        text-align: right;\n",
       "    }\n",
       "</style>\n",
       "<table border=\"1\" class=\"dataframe\">\n",
       "  <thead>\n",
       "    <tr style=\"text-align: right;\">\n",
       "      <th></th>\n",
       "      <th>num_passengers</th>\n",
       "      <th>sales_channel</th>\n",
       "      <th>trip_type</th>\n",
       "      <th>purchase_lead</th>\n",
       "      <th>length_of_stay</th>\n",
       "      <th>flight_hour</th>\n",
       "      <th>flight_day</th>\n",
       "      <th>route</th>\n",
       "      <th>booking_origin</th>\n",
       "      <th>wants_extra_baggage</th>\n",
       "      <th>wants_preferred_seat</th>\n",
       "      <th>wants_in_flight_meals</th>\n",
       "      <th>flight_duration</th>\n",
       "      <th>booking_complete</th>\n",
       "    </tr>\n",
       "  </thead>\n",
       "  <tbody>\n",
       "    <tr>\n",
       "      <th>0</th>\n",
       "      <td>2</td>\n",
       "      <td>Internet</td>\n",
       "      <td>RoundTrip</td>\n",
       "      <td>262</td>\n",
       "      <td>19</td>\n",
       "      <td>7</td>\n",
       "      <td>Sat</td>\n",
       "      <td>AKLDEL</td>\n",
       "      <td>New Zealand</td>\n",
       "      <td>1</td>\n",
       "      <td>0</td>\n",
       "      <td>0</td>\n",
       "      <td>5.52</td>\n",
       "      <td>0</td>\n",
       "    </tr>\n",
       "    <tr>\n",
       "      <th>1</th>\n",
       "      <td>1</td>\n",
       "      <td>Internet</td>\n",
       "      <td>RoundTrip</td>\n",
       "      <td>112</td>\n",
       "      <td>20</td>\n",
       "      <td>3</td>\n",
       "      <td>Sat</td>\n",
       "      <td>AKLDEL</td>\n",
       "      <td>New Zealand</td>\n",
       "      <td>0</td>\n",
       "      <td>0</td>\n",
       "      <td>0</td>\n",
       "      <td>5.52</td>\n",
       "      <td>0</td>\n",
       "    </tr>\n",
       "    <tr>\n",
       "      <th>2</th>\n",
       "      <td>2</td>\n",
       "      <td>Internet</td>\n",
       "      <td>RoundTrip</td>\n",
       "      <td>243</td>\n",
       "      <td>22</td>\n",
       "      <td>17</td>\n",
       "      <td>Wed</td>\n",
       "      <td>AKLDEL</td>\n",
       "      <td>India</td>\n",
       "      <td>1</td>\n",
       "      <td>1</td>\n",
       "      <td>0</td>\n",
       "      <td>5.52</td>\n",
       "      <td>0</td>\n",
       "    </tr>\n",
       "    <tr>\n",
       "      <th>3</th>\n",
       "      <td>1</td>\n",
       "      <td>Internet</td>\n",
       "      <td>RoundTrip</td>\n",
       "      <td>96</td>\n",
       "      <td>31</td>\n",
       "      <td>4</td>\n",
       "      <td>Sat</td>\n",
       "      <td>AKLDEL</td>\n",
       "      <td>New Zealand</td>\n",
       "      <td>0</td>\n",
       "      <td>0</td>\n",
       "      <td>1</td>\n",
       "      <td>5.52</td>\n",
       "      <td>0</td>\n",
       "    </tr>\n",
       "    <tr>\n",
       "      <th>4</th>\n",
       "      <td>2</td>\n",
       "      <td>Internet</td>\n",
       "      <td>RoundTrip</td>\n",
       "      <td>68</td>\n",
       "      <td>22</td>\n",
       "      <td>15</td>\n",
       "      <td>Wed</td>\n",
       "      <td>AKLDEL</td>\n",
       "      <td>India</td>\n",
       "      <td>1</td>\n",
       "      <td>0</td>\n",
       "      <td>1</td>\n",
       "      <td>5.52</td>\n",
       "      <td>0</td>\n",
       "    </tr>\n",
       "  </tbody>\n",
       "</table>\n",
       "</div>"
      ],
      "text/plain": [
       "   num_passengers sales_channel  trip_type  purchase_lead  length_of_stay  \\\n",
       "0               2      Internet  RoundTrip            262              19   \n",
       "1               1      Internet  RoundTrip            112              20   \n",
       "2               2      Internet  RoundTrip            243              22   \n",
       "3               1      Internet  RoundTrip             96              31   \n",
       "4               2      Internet  RoundTrip             68              22   \n",
       "\n",
       "   flight_hour flight_day   route booking_origin  wants_extra_baggage  \\\n",
       "0            7        Sat  AKLDEL    New Zealand                    1   \n",
       "1            3        Sat  AKLDEL    New Zealand                    0   \n",
       "2           17        Wed  AKLDEL          India                    1   \n",
       "3            4        Sat  AKLDEL    New Zealand                    0   \n",
       "4           15        Wed  AKLDEL          India                    1   \n",
       "\n",
       "   wants_preferred_seat  wants_in_flight_meals  flight_duration  \\\n",
       "0                     0                      0             5.52   \n",
       "1                     0                      0             5.52   \n",
       "2                     1                      0             5.52   \n",
       "3                     0                      1             5.52   \n",
       "4                     0                      1             5.52   \n",
       "\n",
       "   booking_complete  \n",
       "0                 0  \n",
       "1                 0  \n",
       "2                 0  \n",
       "3                 0  \n",
       "4                 0  "
      ]
     },
     "execution_count": 5,
     "metadata": {},
     "output_type": "execute_result"
    }
   ],
   "source": [
    "df.head()"
   ]
  },
  {
   "cell_type": "markdown",
   "id": "70873423",
   "metadata": {
    "id": "t2gjofW4PSfW",
    "papermill": {
     "duration": 0.007416,
     "end_time": "2023-04-02T12:55:06.284709",
     "exception": false,
     "start_time": "2023-04-02T12:55:06.277293",
     "status": "completed"
    },
    "tags": []
   },
   "source": [
    "# Exploratory Data Analysis"
   ]
  },
  {
   "cell_type": "code",
   "execution_count": 6,
   "id": "9b6c7edd",
   "metadata": {
    "execution": {
     "iopub.execute_input": "2023-04-02T12:55:06.301493Z",
     "iopub.status.busy": "2023-04-02T12:55:06.300936Z",
     "iopub.status.idle": "2023-04-02T12:55:06.309637Z",
     "shell.execute_reply": "2023-04-02T12:55:06.308914Z"
    },
    "id": "TM3bYzjJPYgm",
    "outputId": "75d6904c-a91e-40f8-c44a-e8d804c48c16",
    "papermill": {
     "duration": 0.019559,
     "end_time": "2023-04-02T12:55:06.311800",
     "exception": false,
     "start_time": "2023-04-02T12:55:06.292241",
     "status": "completed"
    },
    "tags": []
   },
   "outputs": [
    {
     "data": {
      "text/plain": [
       "num_passengers             int64\n",
       "sales_channel             object\n",
       "trip_type                 object\n",
       "purchase_lead              int64\n",
       "length_of_stay             int64\n",
       "flight_hour                int64\n",
       "flight_day                object\n",
       "route                     object\n",
       "booking_origin            object\n",
       "wants_extra_baggage        int64\n",
       "wants_preferred_seat       int64\n",
       "wants_in_flight_meals      int64\n",
       "flight_duration          float64\n",
       "booking_complete           int64\n",
       "dtype: object"
      ]
     },
     "execution_count": 6,
     "metadata": {},
     "output_type": "execute_result"
    }
   ],
   "source": [
    "#checking for datatypes\n",
    "\n",
    "df.dtypes"
   ]
  },
  {
   "cell_type": "code",
   "execution_count": 7,
   "id": "eb4c376b",
   "metadata": {
    "execution": {
     "iopub.execute_input": "2023-04-02T12:55:06.329688Z",
     "iopub.status.busy": "2023-04-02T12:55:06.328986Z",
     "iopub.status.idle": "2023-04-02T12:55:06.335390Z",
     "shell.execute_reply": "2023-04-02T12:55:06.334334Z"
    },
    "id": "TitPzv6sPhcs",
    "outputId": "16aeb6ac-2bdd-4e50-d93e-97fc9992b086",
    "papermill": {
     "duration": 0.017582,
     "end_time": "2023-04-02T12:55:06.337695",
     "exception": false,
     "start_time": "2023-04-02T12:55:06.320113",
     "status": "completed"
    },
    "tags": []
   },
   "outputs": [
    {
     "data": {
      "text/plain": [
       "(50000, 14)"
      ]
     },
     "execution_count": 7,
     "metadata": {},
     "output_type": "execute_result"
    }
   ],
   "source": [
    "df.shape"
   ]
  },
  {
   "cell_type": "code",
   "execution_count": 8,
   "id": "4da51222",
   "metadata": {
    "execution": {
     "iopub.execute_input": "2023-04-02T12:55:06.354881Z",
     "iopub.status.busy": "2023-04-02T12:55:06.354510Z",
     "iopub.status.idle": "2023-04-02T12:55:06.376293Z",
     "shell.execute_reply": "2023-04-02T12:55:06.375218Z"
    },
    "id": "i6XYDIpNPflG",
    "outputId": "07415245-46fc-4f1c-a7f7-1bb98b5d6b27",
    "papermill": {
     "duration": 0.033026,
     "end_time": "2023-04-02T12:55:06.378524",
     "exception": false,
     "start_time": "2023-04-02T12:55:06.345498",
     "status": "completed"
    },
    "tags": []
   },
   "outputs": [
    {
     "data": {
      "text/plain": [
       "num_passengers           0\n",
       "sales_channel            0\n",
       "trip_type                0\n",
       "purchase_lead            0\n",
       "length_of_stay           0\n",
       "flight_hour              0\n",
       "flight_day               0\n",
       "route                    0\n",
       "booking_origin           0\n",
       "wants_extra_baggage      0\n",
       "wants_preferred_seat     0\n",
       "wants_in_flight_meals    0\n",
       "flight_duration          0\n",
       "booking_complete         0\n",
       "dtype: int64"
      ]
     },
     "execution_count": 8,
     "metadata": {},
     "output_type": "execute_result"
    }
   ],
   "source": [
    "#null values\n",
    "\n",
    "df.isnull().sum()\n",
    "\n",
    "#there is no null values"
   ]
  },
  {
   "cell_type": "code",
   "execution_count": 9,
   "id": "ffa6bfdb",
   "metadata": {
    "execution": {
     "iopub.execute_input": "2023-04-02T12:55:06.396444Z",
     "iopub.status.busy": "2023-04-02T12:55:06.395748Z",
     "iopub.status.idle": "2023-04-02T12:55:06.407731Z",
     "shell.execute_reply": "2023-04-02T12:55:06.406944Z"
    },
    "id": "ma007WpIP3U-",
    "outputId": "1670dc55-020c-412b-fa01-6da44ee96b81",
    "papermill": {
     "duration": 0.023198,
     "end_time": "2023-04-02T12:55:06.409817",
     "exception": false,
     "start_time": "2023-04-02T12:55:06.386619",
     "status": "completed"
    },
    "tags": []
   },
   "outputs": [
    {
     "data": {
      "text/plain": [
       "0    42522\n",
       "1     7478\n",
       "Name: booking_complete, dtype: int64"
      ]
     },
     "execution_count": 9,
     "metadata": {},
     "output_type": "execute_result"
    }
   ],
   "source": [
    "df.booking_complete.value_counts()"
   ]
  },
  {
   "cell_type": "markdown",
   "id": "884cf355",
   "metadata": {
    "id": "kO58us30PxJk",
    "papermill": {
     "duration": 0.007637,
     "end_time": "2023-04-02T12:55:06.425617",
     "exception": false,
     "start_time": "2023-04-02T12:55:06.417980",
     "status": "completed"
    },
    "tags": []
   },
   "source": [
    "# Mutual Information"
   ]
  },
  {
   "cell_type": "code",
   "execution_count": 10,
   "id": "879a0aa6",
   "metadata": {
    "execution": {
     "iopub.execute_input": "2023-04-02T12:55:06.443643Z",
     "iopub.status.busy": "2023-04-02T12:55:06.443004Z",
     "iopub.status.idle": "2023-04-02T12:55:06.486413Z",
     "shell.execute_reply": "2023-04-02T12:55:06.485295Z"
    },
    "id": "xAVmW976UzgN",
    "papermill": {
     "duration": 0.055783,
     "end_time": "2023-04-02T12:55:06.489223",
     "exception": false,
     "start_time": "2023-04-02T12:55:06.433440",
     "status": "completed"
    },
    "tags": []
   },
   "outputs": [],
   "source": [
    "X= df.drop('booking_complete',axis=1)\n",
    "y= df.booking_complete         \n",
    "\n",
    "#changing object dtype to int dtype\n",
    "for colname in X.select_dtypes(\"object\"):\n",
    "    X[colname], _ = X[colname].factorize()"
   ]
  },
  {
   "cell_type": "code",
   "execution_count": 11,
   "id": "05d5cca7",
   "metadata": {
    "execution": {
     "iopub.execute_input": "2023-04-02T12:55:06.507501Z",
     "iopub.status.busy": "2023-04-02T12:55:06.507082Z",
     "iopub.status.idle": "2023-04-02T12:55:06.514250Z",
     "shell.execute_reply": "2023-04-02T12:55:06.513451Z"
    },
    "id": "GLbLIRnYVFMe",
    "outputId": "c934b465-9dc6-4141-c6c4-a68c9f7f77fa",
    "papermill": {
     "duration": 0.018789,
     "end_time": "2023-04-02T12:55:06.516320",
     "exception": false,
     "start_time": "2023-04-02T12:55:06.497531",
     "status": "completed"
    },
    "tags": []
   },
   "outputs": [
    {
     "data": {
      "text/plain": [
       "num_passengers             int64\n",
       "sales_channel              int64\n",
       "trip_type                  int64\n",
       "purchase_lead              int64\n",
       "length_of_stay             int64\n",
       "flight_hour                int64\n",
       "flight_day                 int64\n",
       "route                      int64\n",
       "booking_origin             int64\n",
       "wants_extra_baggage        int64\n",
       "wants_preferred_seat       int64\n",
       "wants_in_flight_meals      int64\n",
       "flight_duration          float64\n",
       "dtype: object"
      ]
     },
     "execution_count": 11,
     "metadata": {},
     "output_type": "execute_result"
    }
   ],
   "source": [
    "X.dtypes"
   ]
  },
  {
   "cell_type": "code",
   "execution_count": 12,
   "id": "7675ca57",
   "metadata": {
    "execution": {
     "iopub.execute_input": "2023-04-02T12:55:06.535303Z",
     "iopub.status.busy": "2023-04-02T12:55:06.534421Z",
     "iopub.status.idle": "2023-04-02T12:55:10.075402Z",
     "shell.execute_reply": "2023-04-02T12:55:10.074528Z"
    },
    "id": "C_sax3VTP0qN",
    "outputId": "c165558f-1691-4f03-eb01-d481499740db",
    "papermill": {
     "duration": 3.552594,
     "end_time": "2023-04-02T12:55:10.077655",
     "exception": false,
     "start_time": "2023-04-02T12:55:06.525061",
     "status": "completed"
    },
    "tags": []
   },
   "outputs": [
    {
     "data": {
      "text/plain": [
       "route                    0.052609\n",
       "booking_origin           0.046524\n",
       "flight_duration          0.017266\n",
       "wants_extra_baggage      0.009524\n",
       "length_of_stay           0.008174\n",
       "num_passengers           0.004444\n",
       "sales_channel            0.003475\n",
       "flight_hour              0.002741\n",
       "wants_preferred_seat     0.002061\n",
       "wants_in_flight_meals    0.001442\n",
       "trip_type                0.000685\n",
       "purchase_lead            0.000000\n",
       "flight_day               0.000000\n",
       "Name: MI Scores, dtype: float64"
      ]
     },
     "execution_count": 12,
     "metadata": {},
     "output_type": "execute_result"
    }
   ],
   "source": [
    "from sklearn.feature_selection import mutual_info_classif\n",
    "\n",
    "mi_scores = mutual_info_classif(X, y)\n",
    "mi_scores = pd.Series(mi_scores, name=\"MI Scores\", index=X.columns)\n",
    "mi_scores = mi_scores.sort_values(ascending=False)\n",
    "\n",
    "mi_scores # show a few features with their MI scores"
   ]
  },
  {
   "cell_type": "code",
   "execution_count": 13,
   "id": "6d13d97e",
   "metadata": {
    "execution": {
     "iopub.execute_input": "2023-04-02T12:55:10.096483Z",
     "iopub.status.busy": "2023-04-02T12:55:10.095553Z",
     "iopub.status.idle": "2023-04-02T12:55:10.410574Z",
     "shell.execute_reply": "2023-04-02T12:55:10.409726Z"
    },
    "id": "52zW510SVhxM",
    "outputId": "67558676-5307-48a1-e701-5a0fefd0e123",
    "papermill": {
     "duration": 0.326597,
     "end_time": "2023-04-02T12:55:10.412700",
     "exception": false,
     "start_time": "2023-04-02T12:55:10.086103",
     "status": "completed"
    },
    "tags": []
   },
   "outputs": [
    {
     "data": {
      "image/png": "[encoded data removed]",
      "text/plain": [
       "<Figure size 800x500 with 1 Axes>"
      ]
     },
     "metadata": {},
     "output_type": "display_data"
    }
   ],
   "source": [
    "def plot_mi_scores(scores):\n",
    "    scores = scores.sort_values(ascending=True)\n",
    "    width = np.arange(len(scores))\n",
    "    ticks = list(scores.index)\n",
    "    plt.barh(width, scores)\n",
    "    plt.yticks(width, ticks)\n",
    "    plt.title(\"Mutual Information Scores\")\n",
    "\n",
    "\n",
    "plt.figure(dpi=100, figsize=(8, 5))\n",
    "plot_mi_scores(mi_scores)"
   ]
  },
  {
   "cell_type": "markdown",
   "id": "ba07e5f0",
   "metadata": {
    "id": "GoizpwewVoju",
    "papermill": {
     "duration": 0.009473,
     "end_time": "2023-04-02T12:55:10.431402",
     "exception": false,
     "start_time": "2023-04-02T12:55:10.421929",
     "status": "completed"
    },
    "tags": []
   },
   "source": [
    "We can see\n",
    "\n",
    "1.   route \n",
    "2.   booking_origin\n",
    "3.   flight_duration          \n",
    "4.   wants_extra_baggage      \n",
    "5.   length_of_stay          \n",
    "\n",
    " are the top 5 features which are dependant with booking_complete feature"
   ]
  },
  {
   "cell_type": "code",
   "execution_count": 14,
   "id": "c438d498",
   "metadata": {
    "execution": {
     "iopub.execute_input": "2023-04-02T12:55:10.452816Z",
     "iopub.status.busy": "2023-04-02T12:55:10.452115Z",
     "iopub.status.idle": "2023-04-02T12:55:10.457928Z",
     "shell.execute_reply": "2023-04-02T12:55:10.457155Z"
    },
    "id": "Losgj--AWuoc",
    "papermill": {
     "duration": 0.01916,
     "end_time": "2023-04-02T12:55:10.460107",
     "exception": false,
     "start_time": "2023-04-02T12:55:10.440947",
     "status": "completed"
    },
    "tags": []
   },
   "outputs": [],
   "source": [
    "#test train split\n",
    "\n",
    "from sklearn.model_selection import train_test_split\n",
    "\n",
    "# dataset split\n",
    "# creating a function for dataset split\n",
    "def dataset(X,y):\n",
    "    train_full_X, val_X, train_full_y, val_y = train_test_split(X, y,test_size=0.2,random_state = 0)\n",
    "\n",
    "# Use the same function above for the validation set\n",
    "    train_X, test_X, train_y, test_y = train_test_split(train_full_X, train_full_y, test_size=0.25,random_state = 0)\n",
    "    return (train_X, val_X, train_y, val_y)"
   ]
  },
  {
   "cell_type": "code",
   "execution_count": 15,
   "id": "af8c9ef2",
   "metadata": {
    "execution": {
     "iopub.execute_input": "2023-04-02T12:55:10.481063Z",
     "iopub.status.busy": "2023-04-02T12:55:10.480232Z",
     "iopub.status.idle": "2023-04-02T12:55:10.485875Z",
     "shell.execute_reply": "2023-04-02T12:55:10.484574Z"
    },
    "id": "q7nI9Tr9W1IU",
    "papermill": {
     "duration": 0.018922,
     "end_time": "2023-04-02T12:55:10.488267",
     "exception": false,
     "start_time": "2023-04-02T12:55:10.469345",
     "status": "completed"
    },
    "tags": []
   },
   "outputs": [],
   "source": [
    "from sklearn.preprocessing import MinMaxScaler\n",
    "\n",
    "def scale(X):\n",
    "    scaler = MinMaxScaler()\n",
    "    scaler.fit(X)\n",
    "    return X"
   ]
  },
  {
   "cell_type": "markdown",
   "id": "a653e20c",
   "metadata": {
    "id": "8d7Oq8N6W8Lc",
    "papermill": {
     "duration": 0.008806,
     "end_time": "2023-04-02T12:55:10.506309",
     "exception": false,
     "start_time": "2023-04-02T12:55:10.497503",
     "status": "completed"
    },
    "tags": []
   },
   "source": [
    "# Model 1 : Random forest classifier with top 6 features"
   ]
  },
  {
   "cell_type": "code",
   "execution_count": 16,
   "id": "af40f449",
   "metadata": {
    "execution": {
     "iopub.execute_input": "2023-04-02T12:55:10.526285Z",
     "iopub.status.busy": "2023-04-02T12:55:10.525532Z",
     "iopub.status.idle": "2023-04-02T12:55:48.129320Z",
     "shell.execute_reply": "2023-04-02T12:55:48.128391Z"
    },
    "id": "qu8qczXoXUj7",
    "outputId": "2d640c57-5c28-42f1-859e-52c7679226d0",
    "papermill": {
     "duration": 37.625114,
     "end_time": "2023-04-02T12:55:48.140409",
     "exception": false,
     "start_time": "2023-04-02T12:55:10.515295",
     "status": "completed"
    },
    "tags": []
   },
   "outputs": [
    {
     "name": "stdout",
     "output_type": "stream",
     "text": [
      "ACCURACY:  83.36\n",
      "AUC score:  0.5657818407546988\n"
     ]
    }
   ],
   "source": [
    "from sklearn.metrics import roc_auc_score\n",
    "from sklearn.metrics import accuracy_score\n",
    "from sklearn.ensemble import RandomForestClassifier\n",
    "\n",
    "\n",
    "\n",
    "#assigning the features under a list\n",
    "\n",
    "features=['route','booking_origin','flight_duration','wants_extra_baggage', 'length_of_stay','num_passengers']\n",
    "X= df[features]\n",
    "#one hot encoding\n",
    "X = pd.get_dummies(X, columns=features)\n",
    "X= scale(X)\n",
    "y= df.booking_complete       \n",
    "\n",
    "X_train,X_val,y_train,y_val= dataset(X,y)\n",
    "\n",
    "forest_model= RandomForestClassifier(random_state=1)\n",
    "forest_model.fit(X_train, y_train)\n",
    "preds= forest_model.predict(X_val)\n",
    "\n",
    "print('ACCURACY: ',accuracy_score(y_val,preds)*100)\n",
    "print('AUC score: ',roc_auc_score(y_val,preds))"
   ]
  },
  {
   "cell_type": "markdown",
   "id": "a8105a04",
   "metadata": {
    "id": "LefYDSU_XGZ8",
    "papermill": {
     "duration": 0.009945,
     "end_time": "2023-04-02T12:55:48.166234",
     "exception": false,
     "start_time": "2023-04-02T12:55:48.156289",
     "status": "completed"
    },
    "tags": []
   },
   "source": [
    "# Model 2 : Random forest classifier with all features"
   ]
  },
  {
   "cell_type": "code",
   "execution_count": 17,
   "id": "1c5e1b2d",
   "metadata": {
    "execution": {
     "iopub.execute_input": "2023-04-02T12:55:48.196229Z",
     "iopub.status.busy": "2023-04-02T12:55:48.195819Z",
     "iopub.status.idle": "2023-04-02T12:56:11.147269Z",
     "shell.execute_reply": "2023-04-02T12:56:11.146099Z"
    },
    "id": "FRQuEttcYuNM",
    "outputId": "7971b91b-f5e9-429c-e3d2-ef20ebc41daa",
    "papermill": {
     "duration": 22.971035,
     "end_time": "2023-04-02T12:56:11.150136",
     "exception": false,
     "start_time": "2023-04-02T12:55:48.179101",
     "status": "completed"
    },
    "tags": []
   },
   "outputs": [
    {
     "name": "stdout",
     "output_type": "stream",
     "text": [
      "ACCURACY:  84.76\n",
      "AUC score:  0.5479604084813514\n"
     ]
    }
   ],
   "source": [
    "X= df.drop('booking_complete',axis=1)\n",
    "#one hot encoding\n",
    "X = pd.get_dummies(X)\n",
    "X= scale(X)\n",
    "y= df.booking_complete       \n",
    "\n",
    "X_train,X_val,y_train,y_val= dataset(X,y)\n",
    "\n",
    "forest_model= RandomForestClassifier(random_state=1)\n",
    "forest_model.fit(X_train, y_train)\n",
    "preds= forest_model.predict(X_val)\n",
    "\n",
    "print('ACCURACY: ',accuracy_score(y_val,preds)*100)\n",
    "print('AUC score: ',roc_auc_score(y_val,preds))"
   ]
  },
  {
   "cell_type": "markdown",
   "id": "d19738fa",
   "metadata": {
    "id": "xbatS3WXXKFm",
    "papermill": {
     "duration": 0.008782,
     "end_time": "2023-04-02T12:56:11.168234",
     "exception": false,
     "start_time": "2023-04-02T12:56:11.159452",
     "status": "completed"
    },
    "tags": []
   },
   "source": [
    "# Model 3 : XGB classifier with top 6 features"
   ]
  },
  {
   "cell_type": "code",
   "execution_count": 18,
   "id": "133b07be",
   "metadata": {
    "execution": {
     "iopub.execute_input": "2023-04-02T12:56:11.187994Z",
     "iopub.status.busy": "2023-04-02T12:56:11.187609Z",
     "iopub.status.idle": "2023-04-02T12:57:20.058819Z",
     "shell.execute_reply": "2023-04-02T12:57:20.057443Z"
    },
    "id": "Mpfm2eO3ZSvb",
    "outputId": "5914107b-6b07-4064-9720-8fa6c7a2c652",
    "papermill": {
     "duration": 68.887346,
     "end_time": "2023-04-02T12:57:20.064432",
     "exception": false,
     "start_time": "2023-04-02T12:56:11.177086",
     "status": "completed"
    },
    "tags": []
   },
   "outputs": [
    {
     "name": "stdout",
     "output_type": "stream",
     "text": [
      "ACCURACY:  84.78999999999999\n",
      "AUC score:  0.5231540310747802\n"
     ]
    }
   ],
   "source": [
    "from xgboost import XGBClassifier\n",
    "\n",
    "X= df[features]\n",
    "\n",
    "#one hot encoding\n",
    "X = pd.get_dummies(X, columns=features)\n",
    "X= scale(X)\n",
    "\n",
    "y= df.booking_complete    \n",
    "\n",
    "X_train,X_val,y_train,y_val= dataset(X,y)\n",
    "xgb_model = XGBClassifier()\n",
    "\n",
    "xgb_model.fit(X_train, y_train)\n",
    "prediction_xgb = xgb_model.predict(X_val)\n",
    "print('ACCURACY: ',accuracy_score(y_val, prediction_xgb)*100)\n",
    "print('AUC score: ',roc_auc_score(y_val,prediction_xgb))"
   ]
  },
  {
   "cell_type": "markdown",
   "id": "a8bc6d0c",
   "metadata": {
    "id": "n5b68yEWXO4b",
    "papermill": {
     "duration": 0.008942,
     "end_time": "2023-04-02T12:57:20.083440",
     "exception": false,
     "start_time": "2023-04-02T12:57:20.074498",
     "status": "completed"
    },
    "tags": []
   },
   "source": [
    "# Model 4 : XGB classifier with all features"
   ]
  },
  {
   "cell_type": "code",
   "execution_count": 19,
   "id": "ccc8cba5",
   "metadata": {
    "execution": {
     "iopub.execute_input": "2023-04-02T12:57:20.103412Z",
     "iopub.status.busy": "2023-04-02T12:57:20.102971Z",
     "iopub.status.idle": "2023-04-02T12:58:10.358770Z",
     "shell.execute_reply": "2023-04-02T12:58:10.357797Z"
    },
    "id": "UsVzf8iAZR0c",
    "outputId": "d7442c87-b782-4c03-c588-b8f2ac97b5ed",
    "papermill": {
     "duration": 50.279029,
     "end_time": "2023-04-02T12:58:10.371534",
     "exception": false,
     "start_time": "2023-04-02T12:57:20.092505",
     "status": "completed"
    },
    "tags": []
   },
   "outputs": [
    {
     "name": "stdout",
     "output_type": "stream",
     "text": [
      "ACCURACY:  84.96000000000001\n",
      "AUC score:  0.5431644571912829\n"
     ]
    }
   ],
   "source": [
    "X= df.drop('booking_complete',axis=1)\n",
    "#one hot encoding\n",
    "X = pd.get_dummies(X)\n",
    "X= scale(X)\n",
    "y= df.booking_complete \n",
    "\n",
    "X_train,X_val,y_train,y_val= dataset(X,y)\n",
    "\n",
    "\n",
    "xgb_model = XGBClassifier()\n",
    "xgb_model.fit(X_train, y_train)\n",
    "prediction_xgb = xgb_model.predict(X_val)\n",
    "print('ACCURACY: ',accuracy_score(y_val, prediction_xgb)*100)\n",
    "print('AUC score: ',roc_auc_score(y_val,prediction_xgb))"
   ]
  },
  {
   "cell_type": "markdown",
   "id": "06df5a52",
   "metadata": {
    "id": "TtPr9DwFqpwo",
    "papermill": {
     "duration": 0.009007,
     "end_time": "2023-04-02T12:58:10.389890",
     "exception": false,
     "start_time": "2023-04-02T12:58:10.380883",
     "status": "completed"
    },
    "tags": []
   },
   "source": [
    "Finalizing random forest model with all features as final model, as it has goos accuracy and higher auc score compared to other models\n",
    "\n",
    "Validating with test data set"
   ]
  },
  {
   "cell_type": "code",
   "execution_count": 20,
   "id": "6d45d80f",
   "metadata": {
    "execution": {
     "iopub.execute_input": "2023-04-02T12:58:10.410397Z",
     "iopub.status.busy": "2023-04-02T12:58:10.409970Z",
     "iopub.status.idle": "2023-04-02T12:58:44.722572Z",
     "shell.execute_reply": "2023-04-02T12:58:44.721188Z"
    },
    "id": "LECxTwU1ql6o",
    "outputId": "5b8a01ec-cff1-4b55-c865-4ffb7ed6ea8e",
    "papermill": {
     "duration": 34.335426,
     "end_time": "2023-04-02T12:58:44.734712",
     "exception": false,
     "start_time": "2023-04-02T12:58:10.399286",
     "status": "completed"
    },
    "tags": []
   },
   "outputs": [
    {
     "name": "stdout",
     "output_type": "stream",
     "text": [
      "ACCURACY:  85.09\n",
      "AUC score:  0.5577796717361984\n"
     ]
    }
   ],
   "source": [
    "X= df.drop('booking_complete',axis=1)\n",
    "#one hot encoding\n",
    "X = pd.get_dummies(X)\n",
    "X= scale(X)\n",
    "y= df.booking_complete       \n",
    "\n",
    "train_full_X,test_X, train_full_y, test_y = train_test_split(X, y,test_size=0.2,random_state = 0)\n",
    "\n",
    "forest_model= RandomForestClassifier(random_state=1)\n",
    "forest_model.fit(train_full_X, train_full_y)\n",
    "preds= forest_model.predict(test_X)\n",
    "\n",
    "print('ACCURACY: ',accuracy_score(test_y,preds)*100)\n",
    "print('AUC score: ',roc_auc_score(test_y,preds))"
   ]
  }
 ],
 "metadata": {
  "kernelspec": {
   "display_name": "Python 3",
   "language": "python",
   "name": "python3"
  },
  "language_info": {
   "codemirror_mode": {
    "name": "ipython",
    "version": 3
   },
   "file_extension": ".py",
   "mimetype": "text/x-python",
   "name": "python",
   "nbconvert_exporter": "python",
   "pygments_lexer": "ipython3",
   "version": "3.7.12"
  },
  "papermill": {
   "default_parameters": {},
   "duration": 243.662074,
   "end_time": "2023-04-02T12:58:45.568973",
   "environment_variables": {},
   "exception": null,
   "input_path": "__notebook__.ipynb",
   "output_path": "__notebook__.ipynb",
   "parameters": {},
   "start_time": "2023-04-02T12:54:41.906899",
   "version": "2.4.0"
  }
 },
 "nbformat": 4,
 "nbformat_minor": 5
}
