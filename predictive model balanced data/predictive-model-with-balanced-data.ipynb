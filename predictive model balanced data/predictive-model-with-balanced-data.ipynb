{
 "cells": [
  {
   "cell_type": "markdown",
   "id": "2d67af78",
   "metadata": {
    "papermill": {
     "duration": 0.009723,
     "end_time": "2023-05-02T12:28:48.329471",
     "exception": false,
     "start_time": "2023-05-02T12:28:48.319748",
     "status": "completed"
    },
    "tags": []
   },
   "source": [
    "# Predictive Model"
   ]
  },
  {
   "cell_type": "code",
   "execution_count": 1,
   "id": "4136ff42",
   "metadata": {
    "execution": {
     "iopub.execute_input": "2023-05-02T12:28:48.350175Z",
     "iopub.status.busy": "2023-05-02T12:28:48.349788Z",
     "iopub.status.idle": "2023-05-02T12:28:49.661373Z",
     "shell.execute_reply": "2023-05-02T12:28:49.660228Z"
    },
    "papermill": {
     "duration": 1.32506,
     "end_time": "2023-05-02T12:28:49.664178",
     "exception": false,
     "start_time": "2023-05-02T12:28:48.339118",
     "status": "completed"
    },
    "tags": []
   },
   "outputs": [
    {
     "name": "stderr",
     "output_type": "stream",
     "text": [
      "/opt/conda/lib/python3.10/site-packages/scipy/__init__.py:146: UserWarning: A NumPy version >=1.16.5 and <1.23.0 is required for this version of SciPy (detected version 1.23.5\n",
      "  warnings.warn(f\"A NumPy version >={np_minversion} and <{np_maxversion}\"\n"
     ]
    }
   ],
   "source": [
    "# imports\n",
    "\n",
    "import pandas as pd\n",
    "import numpy as np\n",
    "\n",
    "import os\n",
    "\n",
    "import matplotlib.pyplot as plt\n",
    "import seaborn as sns\n",
    "plt.rcParams.update({'font.size': 14})"
   ]
  },
  {
   "cell_type": "code",
   "execution_count": 2,
   "id": "2dedb7bd",
   "metadata": {
    "execution": {
     "iopub.execute_input": "2023-05-02T12:28:49.687004Z",
     "iopub.status.busy": "2023-05-02T12:28:49.684565Z",
     "iopub.status.idle": "2023-05-02T12:28:49.877496Z",
     "shell.execute_reply": "2023-05-02T12:28:49.876337Z"
    },
    "papermill": {
     "duration": 0.2066,
     "end_time": "2023-05-02T12:28:49.880377",
     "exception": false,
     "start_time": "2023-05-02T12:28:49.673777",
     "status": "completed"
    },
    "tags": []
   },
   "outputs": [],
   "source": [
    "# get current working directory\n",
    "\n",
    "df = pd.read_csv(\"/kaggle/input/airways-customer-data/filtered_customer_booking.csv\", index_col=0)"
   ]
  },
  {
   "cell_type": "code",
   "execution_count": 3,
   "id": "fc77d1a0",
   "metadata": {
    "execution": {
     "iopub.execute_input": "2023-05-02T12:28:49.902554Z",
     "iopub.status.busy": "2023-05-02T12:28:49.901442Z",
     "iopub.status.idle": "2023-05-02T12:28:49.910718Z",
     "shell.execute_reply": "2023-05-02T12:28:49.909836Z"
    },
    "papermill": {
     "duration": 0.023694,
     "end_time": "2023-05-02T12:28:49.914161",
     "exception": false,
     "start_time": "2023-05-02T12:28:49.890467",
     "status": "completed"
    },
    "tags": []
   },
   "outputs": [],
   "source": [
    "df = df.reset_index(drop=True)"
   ]
  },
  {
   "cell_type": "code",
   "execution_count": 4,
   "id": "f9b9d932",
   "metadata": {
    "execution": {
     "iopub.execute_input": "2023-05-02T12:28:49.935594Z",
     "iopub.status.busy": "2023-05-02T12:28:49.935194Z",
     "iopub.status.idle": "2023-05-02T12:28:49.972704Z",
     "shell.execute_reply": "2023-05-02T12:28:49.971700Z"
    },
    "papermill": {
     "duration": 0.0513,
     "end_time": "2023-05-02T12:28:49.975227",
     "exception": false,
     "start_time": "2023-05-02T12:28:49.923927",
     "status": "completed"
    },
    "tags": []
   },
   "outputs": [
    {
     "data": {
      "text/html": [
       "<div>\n",
       "<style scoped>\n",
       "    .dataframe tbody tr th:only-of-type {\n",
       "        vertical-align: middle;\n",
       "    }\n",
       "\n",
       "    .dataframe tbody tr th {\n",
       "        vertical-align: top;\n",
       "    }\n",
       "\n",
       "    .dataframe thead th {\n",
       "        text-align: right;\n",
       "    }\n",
       "</style>\n",
       "<table border=\"1\" class=\"dataframe\">\n",
       "  <thead>\n",
       "    <tr style=\"text-align: right;\">\n",
       "      <th></th>\n",
       "      <th>num_passengers</th>\n",
       "      <th>sales_channel</th>\n",
       "      <th>trip_type</th>\n",
       "      <th>purchase_lead</th>\n",
       "      <th>length_of_stay</th>\n",
       "      <th>flight_hour</th>\n",
       "      <th>flight_day</th>\n",
       "      <th>route</th>\n",
       "      <th>booking_origin</th>\n",
       "      <th>wants_extra_baggage</th>\n",
       "      <th>wants_preferred_seat</th>\n",
       "      <th>wants_in_flight_meals</th>\n",
       "      <th>flight_duration</th>\n",
       "      <th>booking_complete</th>\n",
       "    </tr>\n",
       "  </thead>\n",
       "  <tbody>\n",
       "    <tr>\n",
       "      <th>0</th>\n",
       "      <td>2</td>\n",
       "      <td>Internet</td>\n",
       "      <td>RoundTrip</td>\n",
       "      <td>262</td>\n",
       "      <td>19</td>\n",
       "      <td>7</td>\n",
       "      <td>6</td>\n",
       "      <td>AKLDEL</td>\n",
       "      <td>New Zealand</td>\n",
       "      <td>1</td>\n",
       "      <td>0</td>\n",
       "      <td>0</td>\n",
       "      <td>5.52</td>\n",
       "      <td>0</td>\n",
       "    </tr>\n",
       "    <tr>\n",
       "      <th>1</th>\n",
       "      <td>1</td>\n",
       "      <td>Internet</td>\n",
       "      <td>RoundTrip</td>\n",
       "      <td>112</td>\n",
       "      <td>20</td>\n",
       "      <td>3</td>\n",
       "      <td>6</td>\n",
       "      <td>AKLDEL</td>\n",
       "      <td>New Zealand</td>\n",
       "      <td>0</td>\n",
       "      <td>0</td>\n",
       "      <td>0</td>\n",
       "      <td>5.52</td>\n",
       "      <td>0</td>\n",
       "    </tr>\n",
       "    <tr>\n",
       "      <th>2</th>\n",
       "      <td>2</td>\n",
       "      <td>Internet</td>\n",
       "      <td>RoundTrip</td>\n",
       "      <td>243</td>\n",
       "      <td>22</td>\n",
       "      <td>17</td>\n",
       "      <td>3</td>\n",
       "      <td>AKLDEL</td>\n",
       "      <td>India</td>\n",
       "      <td>1</td>\n",
       "      <td>1</td>\n",
       "      <td>0</td>\n",
       "      <td>5.52</td>\n",
       "      <td>0</td>\n",
       "    </tr>\n",
       "    <tr>\n",
       "      <th>3</th>\n",
       "      <td>1</td>\n",
       "      <td>Internet</td>\n",
       "      <td>RoundTrip</td>\n",
       "      <td>96</td>\n",
       "      <td>31</td>\n",
       "      <td>4</td>\n",
       "      <td>6</td>\n",
       "      <td>AKLDEL</td>\n",
       "      <td>New Zealand</td>\n",
       "      <td>0</td>\n",
       "      <td>0</td>\n",
       "      <td>1</td>\n",
       "      <td>5.52</td>\n",
       "      <td>0</td>\n",
       "    </tr>\n",
       "    <tr>\n",
       "      <th>4</th>\n",
       "      <td>2</td>\n",
       "      <td>Internet</td>\n",
       "      <td>RoundTrip</td>\n",
       "      <td>68</td>\n",
       "      <td>22</td>\n",
       "      <td>15</td>\n",
       "      <td>3</td>\n",
       "      <td>AKLDEL</td>\n",
       "      <td>India</td>\n",
       "      <td>1</td>\n",
       "      <td>0</td>\n",
       "      <td>1</td>\n",
       "      <td>5.52</td>\n",
       "      <td>0</td>\n",
       "    </tr>\n",
       "    <tr>\n",
       "      <th>...</th>\n",
       "      <td>...</td>\n",
       "      <td>...</td>\n",
       "      <td>...</td>\n",
       "      <td>...</td>\n",
       "      <td>...</td>\n",
       "      <td>...</td>\n",
       "      <td>...</td>\n",
       "      <td>...</td>\n",
       "      <td>...</td>\n",
       "      <td>...</td>\n",
       "      <td>...</td>\n",
       "      <td>...</td>\n",
       "      <td>...</td>\n",
       "      <td>...</td>\n",
       "    </tr>\n",
       "    <tr>\n",
       "      <th>49977</th>\n",
       "      <td>2</td>\n",
       "      <td>Internet</td>\n",
       "      <td>RoundTrip</td>\n",
       "      <td>27</td>\n",
       "      <td>6</td>\n",
       "      <td>9</td>\n",
       "      <td>6</td>\n",
       "      <td>PERPNH</td>\n",
       "      <td>Australia</td>\n",
       "      <td>1</td>\n",
       "      <td>0</td>\n",
       "      <td>1</td>\n",
       "      <td>5.62</td>\n",
       "      <td>0</td>\n",
       "    </tr>\n",
       "    <tr>\n",
       "      <th>49978</th>\n",
       "      <td>1</td>\n",
       "      <td>Internet</td>\n",
       "      <td>RoundTrip</td>\n",
       "      <td>111</td>\n",
       "      <td>6</td>\n",
       "      <td>4</td>\n",
       "      <td>7</td>\n",
       "      <td>PERPNH</td>\n",
       "      <td>Australia</td>\n",
       "      <td>0</td>\n",
       "      <td>0</td>\n",
       "      <td>0</td>\n",
       "      <td>5.62</td>\n",
       "      <td>0</td>\n",
       "    </tr>\n",
       "    <tr>\n",
       "      <th>49979</th>\n",
       "      <td>1</td>\n",
       "      <td>Internet</td>\n",
       "      <td>RoundTrip</td>\n",
       "      <td>24</td>\n",
       "      <td>6</td>\n",
       "      <td>22</td>\n",
       "      <td>6</td>\n",
       "      <td>PERPNH</td>\n",
       "      <td>Australia</td>\n",
       "      <td>0</td>\n",
       "      <td>0</td>\n",
       "      <td>1</td>\n",
       "      <td>5.62</td>\n",
       "      <td>0</td>\n",
       "    </tr>\n",
       "    <tr>\n",
       "      <th>49980</th>\n",
       "      <td>1</td>\n",
       "      <td>Internet</td>\n",
       "      <td>RoundTrip</td>\n",
       "      <td>15</td>\n",
       "      <td>6</td>\n",
       "      <td>11</td>\n",
       "      <td>1</td>\n",
       "      <td>PERPNH</td>\n",
       "      <td>Australia</td>\n",
       "      <td>1</td>\n",
       "      <td>0</td>\n",
       "      <td>1</td>\n",
       "      <td>5.62</td>\n",
       "      <td>0</td>\n",
       "    </tr>\n",
       "    <tr>\n",
       "      <th>49981</th>\n",
       "      <td>1</td>\n",
       "      <td>Internet</td>\n",
       "      <td>RoundTrip</td>\n",
       "      <td>19</td>\n",
       "      <td>6</td>\n",
       "      <td>10</td>\n",
       "      <td>4</td>\n",
       "      <td>PERPNH</td>\n",
       "      <td>Australia</td>\n",
       "      <td>0</td>\n",
       "      <td>1</td>\n",
       "      <td>0</td>\n",
       "      <td>5.62</td>\n",
       "      <td>0</td>\n",
       "    </tr>\n",
       "  </tbody>\n",
       "</table>\n",
       "<p>49982 rows × 14 columns</p>\n",
       "</div>"
      ],
      "text/plain": [
       "       num_passengers sales_channel  trip_type  purchase_lead  length_of_stay  \\\n",
       "0                   2      Internet  RoundTrip            262              19   \n",
       "1                   1      Internet  RoundTrip            112              20   \n",
       "2                   2      Internet  RoundTrip            243              22   \n",
       "3                   1      Internet  RoundTrip             96              31   \n",
       "4                   2      Internet  RoundTrip             68              22   \n",
       "...               ...           ...        ...            ...             ...   \n",
       "49977               2      Internet  RoundTrip             27               6   \n",
       "49978               1      Internet  RoundTrip            111               6   \n",
       "49979               1      Internet  RoundTrip             24               6   \n",
       "49980               1      Internet  RoundTrip             15               6   \n",
       "49981               1      Internet  RoundTrip             19               6   \n",
       "\n",
       "       flight_hour  flight_day   route booking_origin  wants_extra_baggage  \\\n",
       "0                7           6  AKLDEL    New Zealand                    1   \n",
       "1                3           6  AKLDEL    New Zealand                    0   \n",
       "2               17           3  AKLDEL          India                    1   \n",
       "3                4           6  AKLDEL    New Zealand                    0   \n",
       "4               15           3  AKLDEL          India                    1   \n",
       "...            ...         ...     ...            ...                  ...   \n",
       "49977            9           6  PERPNH      Australia                    1   \n",
       "49978            4           7  PERPNH      Australia                    0   \n",
       "49979           22           6  PERPNH      Australia                    0   \n",
       "49980           11           1  PERPNH      Australia                    1   \n",
       "49981           10           4  PERPNH      Australia                    0   \n",
       "\n",
       "       wants_preferred_seat  wants_in_flight_meals  flight_duration  \\\n",
       "0                         0                      0             5.52   \n",
       "1                         0                      0             5.52   \n",
       "2                         1                      0             5.52   \n",
       "3                         0                      1             5.52   \n",
       "4                         0                      1             5.52   \n",
       "...                     ...                    ...              ...   \n",
       "49977                     0                      1             5.62   \n",
       "49978                     0                      0             5.62   \n",
       "49979                     0                      1             5.62   \n",
       "49980                     0                      1             5.62   \n",
       "49981                     1                      0             5.62   \n",
       "\n",
       "       booking_complete  \n",
       "0                     0  \n",
       "1                     0  \n",
       "2                     0  \n",
       "3                     0  \n",
       "4                     0  \n",
       "...                 ...  \n",
       "49977                 0  \n",
       "49978                 0  \n",
       "49979                 0  \n",
       "49980                 0  \n",
       "49981                 0  \n",
       "\n",
       "[49982 rows x 14 columns]"
      ]
     },
     "execution_count": 4,
     "metadata": {},
     "output_type": "execute_result"
    }
   ],
   "source": [
    "df"
   ]
  },
  {
   "cell_type": "markdown",
   "id": "97aa242a",
   "metadata": {
    "papermill": {
     "duration": 0.010606,
     "end_time": "2023-05-02T12:28:49.996072",
     "exception": false,
     "start_time": "2023-05-02T12:28:49.985466",
     "status": "completed"
    },
    "tags": []
   },
   "source": [
    "We will one hot encode the categorical columns."
   ]
  },
  {
   "cell_type": "code",
   "execution_count": 5,
   "id": "7a17d53e",
   "metadata": {
    "execution": {
     "iopub.execute_input": "2023-05-02T12:28:50.018236Z",
     "iopub.status.busy": "2023-05-02T12:28:50.017857Z",
     "iopub.status.idle": "2023-05-02T12:28:50.022803Z",
     "shell.execute_reply": "2023-05-02T12:28:50.021513Z"
    },
    "papermill": {
     "duration": 0.01837,
     "end_time": "2023-05-02T12:28:50.024926",
     "exception": false,
     "start_time": "2023-05-02T12:28:50.006556",
     "status": "completed"
    },
    "tags": []
   },
   "outputs": [],
   "source": [
    "df_final = df"
   ]
  },
  {
   "cell_type": "code",
   "execution_count": null,
   "id": "e0e3cb19",
   "metadata": {
    "papermill": {
     "duration": 0.009967,
     "end_time": "2023-05-02T12:28:50.045014",
     "exception": false,
     "start_time": "2023-05-02T12:28:50.035047",
     "status": "completed"
    },
    "tags": []
   },
   "outputs": [],
   "source": []
  },
  {
   "cell_type": "code",
   "execution_count": 6,
   "id": "73e15b9f",
   "metadata": {
    "execution": {
     "iopub.execute_input": "2023-05-02T12:28:50.070956Z",
     "iopub.status.busy": "2023-05-02T12:28:50.070535Z",
     "iopub.status.idle": "2023-05-02T12:28:50.306531Z",
     "shell.execute_reply": "2023-05-02T12:28:50.304719Z"
    },
    "papermill": {
     "duration": 0.253396,
     "end_time": "2023-05-02T12:28:50.309366",
     "exception": false,
     "start_time": "2023-05-02T12:28:50.055970",
     "status": "completed"
    },
    "tags": []
   },
   "outputs": [],
   "source": [
    "from sklearn.preprocessing import OneHotEncoder\n",
    "\n",
    "\n",
    "#create instance of one hot encoder\n",
    "encoder = OneHotEncoder(handle_unknown='ignore')\n",
    "\n",
    "#one hot encode Sales Channel\n",
    "encoder_df = pd.DataFrame(encoder.fit_transform(df[[\"sales_channel\"]]).toarray())\n",
    "encoder_df = encoder_df.rename(columns={0:'Internet', 1:'Mobile'})\n",
    "df_final = df_final.join(encoder_df)\n",
    "\n",
    "#one hot encode trip type\n",
    "encoder_df = pd.DataFrame(encoder.fit_transform(df[[\"trip_type\"]]).toarray())\n",
    "encoder_df = encoder_df.rename(columns={0:'RoundTRip', 1:'OneWayTrip',2:'CircleTrip'})\n",
    "df_final = df_final.join(encoder_df)\n",
    "\n"
   ]
  },
  {
   "cell_type": "code",
   "execution_count": 7,
   "id": "1e9ce348",
   "metadata": {
    "execution": {
     "iopub.execute_input": "2023-05-02T12:28:50.331679Z",
     "iopub.status.busy": "2023-05-02T12:28:50.331267Z",
     "iopub.status.idle": "2023-05-02T12:28:50.340653Z",
     "shell.execute_reply": "2023-05-02T12:28:50.339333Z"
    },
    "papermill": {
     "duration": 0.023405,
     "end_time": "2023-05-02T12:28:50.343003",
     "exception": false,
     "start_time": "2023-05-02T12:28:50.319598",
     "status": "completed"
    },
    "tags": []
   },
   "outputs": [],
   "source": [
    "#drop categorical columns now\n",
    "df_final.drop(['sales_channel', 'trip_type','booking_origin', 'route'], axis=1, inplace = True)"
   ]
  },
  {
   "cell_type": "code",
   "execution_count": 8,
   "id": "7ec46dbe",
   "metadata": {
    "execution": {
     "iopub.execute_input": "2023-05-02T12:28:50.365798Z",
     "iopub.status.busy": "2023-05-02T12:28:50.365396Z",
     "iopub.status.idle": "2023-05-02T12:28:50.371077Z",
     "shell.execute_reply": "2023-05-02T12:28:50.369799Z"
    },
    "papermill": {
     "duration": 0.019654,
     "end_time": "2023-05-02T12:28:50.373566",
     "exception": false,
     "start_time": "2023-05-02T12:28:50.353912",
     "status": "completed"
    },
    "tags": []
   },
   "outputs": [],
   "source": [
    "#store the label for supervised learning\n",
    "label = df['booking_complete']"
   ]
  },
  {
   "cell_type": "code",
   "execution_count": 9,
   "id": "58789e3e",
   "metadata": {
    "execution": {
     "iopub.execute_input": "2023-05-02T12:28:50.396094Z",
     "iopub.status.busy": "2023-05-02T12:28:50.395345Z",
     "iopub.status.idle": "2023-05-02T12:28:50.403777Z",
     "shell.execute_reply": "2023-05-02T12:28:50.402585Z"
    },
    "papermill": {
     "duration": 0.0229,
     "end_time": "2023-05-02T12:28:50.406779",
     "exception": false,
     "start_time": "2023-05-02T12:28:50.383879",
     "status": "completed"
    },
    "tags": []
   },
   "outputs": [],
   "source": [
    "df_final = df_final.drop('booking_complete', axis=1)"
   ]
  },
  {
   "cell_type": "code",
   "execution_count": 10,
   "id": "f4cd4ecf",
   "metadata": {
    "execution": {
     "iopub.execute_input": "2023-05-02T12:28:50.428574Z",
     "iopub.status.busy": "2023-05-02T12:28:50.428179Z",
     "iopub.status.idle": "2023-05-02T12:28:50.451671Z",
     "shell.execute_reply": "2023-05-02T12:28:50.450519Z"
    },
    "papermill": {
     "duration": 0.037221,
     "end_time": "2023-05-02T12:28:50.453944",
     "exception": false,
     "start_time": "2023-05-02T12:28:50.416723",
     "status": "completed"
    },
    "tags": []
   },
   "outputs": [
    {
     "data": {
      "text/html": [
       "<div>\n",
       "<style scoped>\n",
       "    .dataframe tbody tr th:only-of-type {\n",
       "        vertical-align: middle;\n",
       "    }\n",
       "\n",
       "    .dataframe tbody tr th {\n",
       "        vertical-align: top;\n",
       "    }\n",
       "\n",
       "    .dataframe thead th {\n",
       "        text-align: right;\n",
       "    }\n",
       "</style>\n",
       "<table border=\"1\" class=\"dataframe\">\n",
       "  <thead>\n",
       "    <tr style=\"text-align: right;\">\n",
       "      <th></th>\n",
       "      <th>num_passengers</th>\n",
       "      <th>purchase_lead</th>\n",
       "      <th>length_of_stay</th>\n",
       "      <th>flight_hour</th>\n",
       "      <th>flight_day</th>\n",
       "      <th>wants_extra_baggage</th>\n",
       "      <th>wants_preferred_seat</th>\n",
       "      <th>wants_in_flight_meals</th>\n",
       "      <th>flight_duration</th>\n",
       "      <th>Internet</th>\n",
       "      <th>Mobile</th>\n",
       "      <th>RoundTRip</th>\n",
       "      <th>OneWayTrip</th>\n",
       "      <th>CircleTrip</th>\n",
       "    </tr>\n",
       "  </thead>\n",
       "  <tbody>\n",
       "    <tr>\n",
       "      <th>0</th>\n",
       "      <td>2</td>\n",
       "      <td>262</td>\n",
       "      <td>19</td>\n",
       "      <td>7</td>\n",
       "      <td>6</td>\n",
       "      <td>1</td>\n",
       "      <td>0</td>\n",
       "      <td>0</td>\n",
       "      <td>5.52</td>\n",
       "      <td>1.0</td>\n",
       "      <td>0.0</td>\n",
       "      <td>0.0</td>\n",
       "      <td>0.0</td>\n",
       "      <td>1.0</td>\n",
       "    </tr>\n",
       "    <tr>\n",
       "      <th>1</th>\n",
       "      <td>1</td>\n",
       "      <td>112</td>\n",
       "      <td>20</td>\n",
       "      <td>3</td>\n",
       "      <td>6</td>\n",
       "      <td>0</td>\n",
       "      <td>0</td>\n",
       "      <td>0</td>\n",
       "      <td>5.52</td>\n",
       "      <td>1.0</td>\n",
       "      <td>0.0</td>\n",
       "      <td>0.0</td>\n",
       "      <td>0.0</td>\n",
       "      <td>1.0</td>\n",
       "    </tr>\n",
       "    <tr>\n",
       "      <th>2</th>\n",
       "      <td>2</td>\n",
       "      <td>243</td>\n",
       "      <td>22</td>\n",
       "      <td>17</td>\n",
       "      <td>3</td>\n",
       "      <td>1</td>\n",
       "      <td>1</td>\n",
       "      <td>0</td>\n",
       "      <td>5.52</td>\n",
       "      <td>1.0</td>\n",
       "      <td>0.0</td>\n",
       "      <td>0.0</td>\n",
       "      <td>0.0</td>\n",
       "      <td>1.0</td>\n",
       "    </tr>\n",
       "    <tr>\n",
       "      <th>3</th>\n",
       "      <td>1</td>\n",
       "      <td>96</td>\n",
       "      <td>31</td>\n",
       "      <td>4</td>\n",
       "      <td>6</td>\n",
       "      <td>0</td>\n",
       "      <td>0</td>\n",
       "      <td>1</td>\n",
       "      <td>5.52</td>\n",
       "      <td>1.0</td>\n",
       "      <td>0.0</td>\n",
       "      <td>0.0</td>\n",
       "      <td>0.0</td>\n",
       "      <td>1.0</td>\n",
       "    </tr>\n",
       "    <tr>\n",
       "      <th>4</th>\n",
       "      <td>2</td>\n",
       "      <td>68</td>\n",
       "      <td>22</td>\n",
       "      <td>15</td>\n",
       "      <td>3</td>\n",
       "      <td>1</td>\n",
       "      <td>0</td>\n",
       "      <td>1</td>\n",
       "      <td>5.52</td>\n",
       "      <td>1.0</td>\n",
       "      <td>0.0</td>\n",
       "      <td>0.0</td>\n",
       "      <td>0.0</td>\n",
       "      <td>1.0</td>\n",
       "    </tr>\n",
       "    <tr>\n",
       "      <th>...</th>\n",
       "      <td>...</td>\n",
       "      <td>...</td>\n",
       "      <td>...</td>\n",
       "      <td>...</td>\n",
       "      <td>...</td>\n",
       "      <td>...</td>\n",
       "      <td>...</td>\n",
       "      <td>...</td>\n",
       "      <td>...</td>\n",
       "      <td>...</td>\n",
       "      <td>...</td>\n",
       "      <td>...</td>\n",
       "      <td>...</td>\n",
       "      <td>...</td>\n",
       "    </tr>\n",
       "    <tr>\n",
       "      <th>49977</th>\n",
       "      <td>2</td>\n",
       "      <td>27</td>\n",
       "      <td>6</td>\n",
       "      <td>9</td>\n",
       "      <td>6</td>\n",
       "      <td>1</td>\n",
       "      <td>0</td>\n",
       "      <td>1</td>\n",
       "      <td>5.62</td>\n",
       "      <td>1.0</td>\n",
       "      <td>0.0</td>\n",
       "      <td>0.0</td>\n",
       "      <td>0.0</td>\n",
       "      <td>1.0</td>\n",
       "    </tr>\n",
       "    <tr>\n",
       "      <th>49978</th>\n",
       "      <td>1</td>\n",
       "      <td>111</td>\n",
       "      <td>6</td>\n",
       "      <td>4</td>\n",
       "      <td>7</td>\n",
       "      <td>0</td>\n",
       "      <td>0</td>\n",
       "      <td>0</td>\n",
       "      <td>5.62</td>\n",
       "      <td>1.0</td>\n",
       "      <td>0.0</td>\n",
       "      <td>0.0</td>\n",
       "      <td>0.0</td>\n",
       "      <td>1.0</td>\n",
       "    </tr>\n",
       "    <tr>\n",
       "      <th>49979</th>\n",
       "      <td>1</td>\n",
       "      <td>24</td>\n",
       "      <td>6</td>\n",
       "      <td>22</td>\n",
       "      <td>6</td>\n",
       "      <td>0</td>\n",
       "      <td>0</td>\n",
       "      <td>1</td>\n",
       "      <td>5.62</td>\n",
       "      <td>1.0</td>\n",
       "      <td>0.0</td>\n",
       "      <td>0.0</td>\n",
       "      <td>0.0</td>\n",
       "      <td>1.0</td>\n",
       "    </tr>\n",
       "    <tr>\n",
       "      <th>49980</th>\n",
       "      <td>1</td>\n",
       "      <td>15</td>\n",
       "      <td>6</td>\n",
       "      <td>11</td>\n",
       "      <td>1</td>\n",
       "      <td>1</td>\n",
       "      <td>0</td>\n",
       "      <td>1</td>\n",
       "      <td>5.62</td>\n",
       "      <td>1.0</td>\n",
       "      <td>0.0</td>\n",
       "      <td>0.0</td>\n",
       "      <td>0.0</td>\n",
       "      <td>1.0</td>\n",
       "    </tr>\n",
       "    <tr>\n",
       "      <th>49981</th>\n",
       "      <td>1</td>\n",
       "      <td>19</td>\n",
       "      <td>6</td>\n",
       "      <td>10</td>\n",
       "      <td>4</td>\n",
       "      <td>0</td>\n",
       "      <td>1</td>\n",
       "      <td>0</td>\n",
       "      <td>5.62</td>\n",
       "      <td>1.0</td>\n",
       "      <td>0.0</td>\n",
       "      <td>0.0</td>\n",
       "      <td>0.0</td>\n",
       "      <td>1.0</td>\n",
       "    </tr>\n",
       "  </tbody>\n",
       "</table>\n",
       "<p>49982 rows × 14 columns</p>\n",
       "</div>"
      ],
      "text/plain": [
       "       num_passengers  purchase_lead  length_of_stay  flight_hour  flight_day  \\\n",
       "0                   2            262              19            7           6   \n",
       "1                   1            112              20            3           6   \n",
       "2                   2            243              22           17           3   \n",
       "3                   1             96              31            4           6   \n",
       "4                   2             68              22           15           3   \n",
       "...               ...            ...             ...          ...         ...   \n",
       "49977               2             27               6            9           6   \n",
       "49978               1            111               6            4           7   \n",
       "49979               1             24               6           22           6   \n",
       "49980               1             15               6           11           1   \n",
       "49981               1             19               6           10           4   \n",
       "\n",
       "       wants_extra_baggage  wants_preferred_seat  wants_in_flight_meals  \\\n",
       "0                        1                     0                      0   \n",
       "1                        0                     0                      0   \n",
       "2                        1                     1                      0   \n",
       "3                        0                     0                      1   \n",
       "4                        1                     0                      1   \n",
       "...                    ...                   ...                    ...   \n",
       "49977                    1                     0                      1   \n",
       "49978                    0                     0                      0   \n",
       "49979                    0                     0                      1   \n",
       "49980                    1                     0                      1   \n",
       "49981                    0                     1                      0   \n",
       "\n",
       "       flight_duration  Internet  Mobile  RoundTRip  OneWayTrip  CircleTrip  \n",
       "0                 5.52       1.0     0.0        0.0         0.0         1.0  \n",
       "1                 5.52       1.0     0.0        0.0         0.0         1.0  \n",
       "2                 5.52       1.0     0.0        0.0         0.0         1.0  \n",
       "3                 5.52       1.0     0.0        0.0         0.0         1.0  \n",
       "4                 5.52       1.0     0.0        0.0         0.0         1.0  \n",
       "...                ...       ...     ...        ...         ...         ...  \n",
       "49977             5.62       1.0     0.0        0.0         0.0         1.0  \n",
       "49978             5.62       1.0     0.0        0.0         0.0         1.0  \n",
       "49979             5.62       1.0     0.0        0.0         0.0         1.0  \n",
       "49980             5.62       1.0     0.0        0.0         0.0         1.0  \n",
       "49981             5.62       1.0     0.0        0.0         0.0         1.0  \n",
       "\n",
       "[49982 rows x 14 columns]"
      ]
     },
     "execution_count": 10,
     "metadata": {},
     "output_type": "execute_result"
    }
   ],
   "source": [
    "df_final"
   ]
  },
  {
   "cell_type": "markdown",
   "id": "4f03ad95",
   "metadata": {
    "papermill": {
     "duration": 0.012072,
     "end_time": "2023-05-02T12:28:50.477117",
     "exception": false,
     "start_time": "2023-05-02T12:28:50.465045",
     "status": "completed"
    },
    "tags": []
   },
   "source": [
    "## Normalizaing the values"
   ]
  },
  {
   "cell_type": "code",
   "execution_count": 11,
   "id": "295f4b54",
   "metadata": {
    "execution": {
     "iopub.execute_input": "2023-05-02T12:28:50.502960Z",
     "iopub.status.busy": "2023-05-02T12:28:50.502407Z",
     "iopub.status.idle": "2023-05-02T12:28:50.533584Z",
     "shell.execute_reply": "2023-05-02T12:28:50.532506Z"
    },
    "papermill": {
     "duration": 0.047261,
     "end_time": "2023-05-02T12:28:50.536529",
     "exception": false,
     "start_time": "2023-05-02T12:28:50.489268",
     "status": "completed"
    },
    "tags": []
   },
   "outputs": [],
   "source": [
    "from sklearn.preprocessing import StandardScaler\n",
    "\n",
    "#create a standard scaler object\n",
    "scaler = StandardScaler()\n",
    "\n",
    "#fit and transform the data\n",
    "scaled_df = scaler.fit_transform(df_final)"
   ]
  },
  {
   "cell_type": "code",
   "execution_count": 12,
   "id": "c676d407",
   "metadata": {
    "execution": {
     "iopub.execute_input": "2023-05-02T12:28:50.560154Z",
     "iopub.status.busy": "2023-05-02T12:28:50.559742Z",
     "iopub.status.idle": "2023-05-02T12:28:50.565245Z",
     "shell.execute_reply": "2023-05-02T12:28:50.563943Z"
    },
    "papermill": {
     "duration": 0.020489,
     "end_time": "2023-05-02T12:28:50.568162",
     "exception": false,
     "start_time": "2023-05-02T12:28:50.547673",
     "status": "completed"
    },
    "tags": []
   },
   "outputs": [],
   "source": [
    "#create a dataframe of scled data\n",
    "scaled_df = pd.DataFrame(scaled_df, columns = df_final.columns)"
   ]
  },
  {
   "cell_type": "code",
   "execution_count": 13,
   "id": "7735a08a",
   "metadata": {
    "execution": {
     "iopub.execute_input": "2023-05-02T12:28:50.590753Z",
     "iopub.status.busy": "2023-05-02T12:28:50.589987Z",
     "iopub.status.idle": "2023-05-02T12:28:50.595551Z",
     "shell.execute_reply": "2023-05-02T12:28:50.594527Z"
    },
    "papermill": {
     "duration": 0.019098,
     "end_time": "2023-05-02T12:28:50.597679",
     "exception": false,
     "start_time": "2023-05-02T12:28:50.578581",
     "status": "completed"
    },
    "tags": []
   },
   "outputs": [],
   "source": [
    "# add the labels back to the dataframe\n",
    "scaled_df['label']  = label"
   ]
  },
  {
   "cell_type": "code",
   "execution_count": 14,
   "id": "208bb5d5",
   "metadata": {
    "execution": {
     "iopub.execute_input": "2023-05-02T12:28:50.620043Z",
     "iopub.status.busy": "2023-05-02T12:28:50.619690Z",
     "iopub.status.idle": "2023-05-02T12:28:50.642913Z",
     "shell.execute_reply": "2023-05-02T12:28:50.641841Z"
    },
    "papermill": {
     "duration": 0.037245,
     "end_time": "2023-05-02T12:28:50.645273",
     "exception": false,
     "start_time": "2023-05-02T12:28:50.608028",
     "status": "completed"
    },
    "tags": []
   },
   "outputs": [
    {
     "data": {
      "text/html": [
       "<div>\n",
       "<style scoped>\n",
       "    .dataframe tbody tr th:only-of-type {\n",
       "        vertical-align: middle;\n",
       "    }\n",
       "\n",
       "    .dataframe tbody tr th {\n",
       "        vertical-align: top;\n",
       "    }\n",
       "\n",
       "    .dataframe thead th {\n",
       "        text-align: right;\n",
       "    }\n",
       "</style>\n",
       "<table border=\"1\" class=\"dataframe\">\n",
       "  <thead>\n",
       "    <tr style=\"text-align: right;\">\n",
       "      <th></th>\n",
       "      <th>num_passengers</th>\n",
       "      <th>purchase_lead</th>\n",
       "      <th>length_of_stay</th>\n",
       "      <th>flight_hour</th>\n",
       "      <th>flight_day</th>\n",
       "      <th>wants_extra_baggage</th>\n",
       "      <th>wants_preferred_seat</th>\n",
       "      <th>wants_in_flight_meals</th>\n",
       "      <th>flight_duration</th>\n",
       "      <th>Internet</th>\n",
       "      <th>Mobile</th>\n",
       "      <th>RoundTRip</th>\n",
       "      <th>OneWayTrip</th>\n",
       "      <th>CircleTrip</th>\n",
       "      <th>label</th>\n",
       "    </tr>\n",
       "  </thead>\n",
       "  <tbody>\n",
       "    <tr>\n",
       "      <th>0</th>\n",
       "      <td>0.400769</td>\n",
       "      <td>1.971093</td>\n",
       "      <td>-0.119401</td>\n",
       "      <td>-0.381588</td>\n",
       "      <td>1.096876</td>\n",
       "      <td>0.703587</td>\n",
       "      <td>-0.650054</td>\n",
       "      <td>-0.863557</td>\n",
       "      <td>-1.174049</td>\n",
       "      <td>0.355786</td>\n",
       "      <td>-0.355786</td>\n",
       "      <td>-0.048231</td>\n",
       "      <td>-0.088336</td>\n",
       "      <td>0.100826</td>\n",
       "      <td>0</td>\n",
       "    </tr>\n",
       "    <tr>\n",
       "      <th>1</th>\n",
       "      <td>-0.579424</td>\n",
       "      <td>0.302987</td>\n",
       "      <td>-0.089895</td>\n",
       "      <td>-1.120618</td>\n",
       "      <td>1.096876</td>\n",
       "      <td>-1.421288</td>\n",
       "      <td>-0.650054</td>\n",
       "      <td>-0.863557</td>\n",
       "      <td>-1.174049</td>\n",
       "      <td>0.355786</td>\n",
       "      <td>-0.355786</td>\n",
       "      <td>-0.048231</td>\n",
       "      <td>-0.088336</td>\n",
       "      <td>0.100826</td>\n",
       "      <td>0</td>\n",
       "    </tr>\n",
       "    <tr>\n",
       "      <th>2</th>\n",
       "      <td>0.400769</td>\n",
       "      <td>1.759799</td>\n",
       "      <td>-0.030885</td>\n",
       "      <td>1.465988</td>\n",
       "      <td>-0.408618</td>\n",
       "      <td>0.703587</td>\n",
       "      <td>1.538334</td>\n",
       "      <td>-0.863557</td>\n",
       "      <td>-1.174049</td>\n",
       "      <td>0.355786</td>\n",
       "      <td>-0.355786</td>\n",
       "      <td>-0.048231</td>\n",
       "      <td>-0.088336</td>\n",
       "      <td>0.100826</td>\n",
       "      <td>0</td>\n",
       "    </tr>\n",
       "    <tr>\n",
       "      <th>3</th>\n",
       "      <td>-0.579424</td>\n",
       "      <td>0.125056</td>\n",
       "      <td>0.234662</td>\n",
       "      <td>-0.935861</td>\n",
       "      <td>1.096876</td>\n",
       "      <td>-1.421288</td>\n",
       "      <td>-0.650054</td>\n",
       "      <td>1.158002</td>\n",
       "      <td>-1.174049</td>\n",
       "      <td>0.355786</td>\n",
       "      <td>-0.355786</td>\n",
       "      <td>-0.048231</td>\n",
       "      <td>-0.088336</td>\n",
       "      <td>0.100826</td>\n",
       "      <td>0</td>\n",
       "    </tr>\n",
       "    <tr>\n",
       "      <th>4</th>\n",
       "      <td>0.400769</td>\n",
       "      <td>-0.186323</td>\n",
       "      <td>-0.030885</td>\n",
       "      <td>1.096473</td>\n",
       "      <td>-0.408618</td>\n",
       "      <td>0.703587</td>\n",
       "      <td>-0.650054</td>\n",
       "      <td>1.158002</td>\n",
       "      <td>-1.174049</td>\n",
       "      <td>0.355786</td>\n",
       "      <td>-0.355786</td>\n",
       "      <td>-0.048231</td>\n",
       "      <td>-0.088336</td>\n",
       "      <td>0.100826</td>\n",
       "      <td>0</td>\n",
       "    </tr>\n",
       "    <tr>\n",
       "      <th>...</th>\n",
       "      <td>...</td>\n",
       "      <td>...</td>\n",
       "      <td>...</td>\n",
       "      <td>...</td>\n",
       "      <td>...</td>\n",
       "      <td>...</td>\n",
       "      <td>...</td>\n",
       "      <td>...</td>\n",
       "      <td>...</td>\n",
       "      <td>...</td>\n",
       "      <td>...</td>\n",
       "      <td>...</td>\n",
       "      <td>...</td>\n",
       "      <td>...</td>\n",
       "      <td>...</td>\n",
       "    </tr>\n",
       "    <tr>\n",
       "      <th>49977</th>\n",
       "      <td>0.400769</td>\n",
       "      <td>-0.642272</td>\n",
       "      <td>-0.502969</td>\n",
       "      <td>-0.012073</td>\n",
       "      <td>1.096876</td>\n",
       "      <td>0.703587</td>\n",
       "      <td>-0.650054</td>\n",
       "      <td>1.158002</td>\n",
       "      <td>-1.107240</td>\n",
       "      <td>0.355786</td>\n",
       "      <td>-0.355786</td>\n",
       "      <td>-0.048231</td>\n",
       "      <td>-0.088336</td>\n",
       "      <td>0.100826</td>\n",
       "      <td>0</td>\n",
       "    </tr>\n",
       "    <tr>\n",
       "      <th>49978</th>\n",
       "      <td>-0.579424</td>\n",
       "      <td>0.291867</td>\n",
       "      <td>-0.502969</td>\n",
       "      <td>-0.935861</td>\n",
       "      <td>1.598707</td>\n",
       "      <td>-1.421288</td>\n",
       "      <td>-0.650054</td>\n",
       "      <td>-0.863557</td>\n",
       "      <td>-1.107240</td>\n",
       "      <td>0.355786</td>\n",
       "      <td>-0.355786</td>\n",
       "      <td>-0.048231</td>\n",
       "      <td>-0.088336</td>\n",
       "      <td>0.100826</td>\n",
       "      <td>0</td>\n",
       "    </tr>\n",
       "    <tr>\n",
       "      <th>49979</th>\n",
       "      <td>-0.579424</td>\n",
       "      <td>-0.675634</td>\n",
       "      <td>-0.502969</td>\n",
       "      <td>2.389776</td>\n",
       "      <td>1.096876</td>\n",
       "      <td>-1.421288</td>\n",
       "      <td>-0.650054</td>\n",
       "      <td>1.158002</td>\n",
       "      <td>-1.107240</td>\n",
       "      <td>0.355786</td>\n",
       "      <td>-0.355786</td>\n",
       "      <td>-0.048231</td>\n",
       "      <td>-0.088336</td>\n",
       "      <td>0.100826</td>\n",
       "      <td>0</td>\n",
       "    </tr>\n",
       "    <tr>\n",
       "      <th>49980</th>\n",
       "      <td>-0.579424</td>\n",
       "      <td>-0.775721</td>\n",
       "      <td>-0.502969</td>\n",
       "      <td>0.357443</td>\n",
       "      <td>-1.412280</td>\n",
       "      <td>0.703587</td>\n",
       "      <td>-0.650054</td>\n",
       "      <td>1.158002</td>\n",
       "      <td>-1.107240</td>\n",
       "      <td>0.355786</td>\n",
       "      <td>-0.355786</td>\n",
       "      <td>-0.048231</td>\n",
       "      <td>-0.088336</td>\n",
       "      <td>0.100826</td>\n",
       "      <td>0</td>\n",
       "    </tr>\n",
       "    <tr>\n",
       "      <th>49981</th>\n",
       "      <td>-0.579424</td>\n",
       "      <td>-0.731238</td>\n",
       "      <td>-0.502969</td>\n",
       "      <td>0.172685</td>\n",
       "      <td>0.093214</td>\n",
       "      <td>-1.421288</td>\n",
       "      <td>1.538334</td>\n",
       "      <td>-0.863557</td>\n",
       "      <td>-1.107240</td>\n",
       "      <td>0.355786</td>\n",
       "      <td>-0.355786</td>\n",
       "      <td>-0.048231</td>\n",
       "      <td>-0.088336</td>\n",
       "      <td>0.100826</td>\n",
       "      <td>0</td>\n",
       "    </tr>\n",
       "  </tbody>\n",
       "</table>\n",
       "<p>49982 rows × 15 columns</p>\n",
       "</div>"
      ],
      "text/plain": [
       "       num_passengers  purchase_lead  length_of_stay  flight_hour  flight_day  \\\n",
       "0            0.400769       1.971093       -0.119401    -0.381588    1.096876   \n",
       "1           -0.579424       0.302987       -0.089895    -1.120618    1.096876   \n",
       "2            0.400769       1.759799       -0.030885     1.465988   -0.408618   \n",
       "3           -0.579424       0.125056        0.234662    -0.935861    1.096876   \n",
       "4            0.400769      -0.186323       -0.030885     1.096473   -0.408618   \n",
       "...               ...            ...             ...          ...         ...   \n",
       "49977        0.400769      -0.642272       -0.502969    -0.012073    1.096876   \n",
       "49978       -0.579424       0.291867       -0.502969    -0.935861    1.598707   \n",
       "49979       -0.579424      -0.675634       -0.502969     2.389776    1.096876   \n",
       "49980       -0.579424      -0.775721       -0.502969     0.357443   -1.412280   \n",
       "49981       -0.579424      -0.731238       -0.502969     0.172685    0.093214   \n",
       "\n",
       "       wants_extra_baggage  wants_preferred_seat  wants_in_flight_meals  \\\n",
       "0                 0.703587             -0.650054              -0.863557   \n",
       "1                -1.421288             -0.650054              -0.863557   \n",
       "2                 0.703587              1.538334              -0.863557   \n",
       "3                -1.421288             -0.650054               1.158002   \n",
       "4                 0.703587             -0.650054               1.158002   \n",
       "...                    ...                   ...                    ...   \n",
       "49977             0.703587             -0.650054               1.158002   \n",
       "49978            -1.421288             -0.650054              -0.863557   \n",
       "49979            -1.421288             -0.650054               1.158002   \n",
       "49980             0.703587             -0.650054               1.158002   \n",
       "49981            -1.421288              1.538334              -0.863557   \n",
       "\n",
       "       flight_duration  Internet    Mobile  RoundTRip  OneWayTrip  CircleTrip  \\\n",
       "0            -1.174049  0.355786 -0.355786  -0.048231   -0.088336    0.100826   \n",
       "1            -1.174049  0.355786 -0.355786  -0.048231   -0.088336    0.100826   \n",
       "2            -1.174049  0.355786 -0.355786  -0.048231   -0.088336    0.100826   \n",
       "3            -1.174049  0.355786 -0.355786  -0.048231   -0.088336    0.100826   \n",
       "4            -1.174049  0.355786 -0.355786  -0.048231   -0.088336    0.100826   \n",
       "...                ...       ...       ...        ...         ...         ...   \n",
       "49977        -1.107240  0.355786 -0.355786  -0.048231   -0.088336    0.100826   \n",
       "49978        -1.107240  0.355786 -0.355786  -0.048231   -0.088336    0.100826   \n",
       "49979        -1.107240  0.355786 -0.355786  -0.048231   -0.088336    0.100826   \n",
       "49980        -1.107240  0.355786 -0.355786  -0.048231   -0.088336    0.100826   \n",
       "49981        -1.107240  0.355786 -0.355786  -0.048231   -0.088336    0.100826   \n",
       "\n",
       "       label  \n",
       "0          0  \n",
       "1          0  \n",
       "2          0  \n",
       "3          0  \n",
       "4          0  \n",
       "...      ...  \n",
       "49977      0  \n",
       "49978      0  \n",
       "49979      0  \n",
       "49980      0  \n",
       "49981      0  \n",
       "\n",
       "[49982 rows x 15 columns]"
      ]
     },
     "execution_count": 14,
     "metadata": {},
     "output_type": "execute_result"
    }
   ],
   "source": [
    "scaled_df"
   ]
  },
  {
   "cell_type": "markdown",
   "id": "04c9d98a",
   "metadata": {
    "papermill": {
     "duration": 0.010479,
     "end_time": "2023-05-02T12:28:50.666475",
     "exception": false,
     "start_time": "2023-05-02T12:28:50.655996",
     "status": "completed"
    },
    "tags": []
   },
   "source": [
    "## Correlation matrix\n"
   ]
  },
  {
   "cell_type": "code",
   "execution_count": 15,
   "id": "fc173f39",
   "metadata": {
    "execution": {
     "iopub.execute_input": "2023-05-02T12:28:50.689705Z",
     "iopub.status.busy": "2023-05-02T12:28:50.689263Z",
     "iopub.status.idle": "2023-05-02T12:28:51.347597Z",
     "shell.execute_reply": "2023-05-02T12:28:51.346703Z"
    },
    "papermill": {
     "duration": 0.672853,
     "end_time": "2023-05-02T12:28:51.350025",
     "exception": false,
     "start_time": "2023-05-02T12:28:50.677172",
     "status": "completed"
    },
    "tags": []
   },
   "outputs": [
    {
     "data": {
      "text/plain": [
       "<AxesSubplot: >"
      ]
     },
     "execution_count": 15,
     "metadata": {},
     "output_type": "execute_result"
    },
    {
     "data": {
      "image/png": "[encoded data removed]",
      "text/plain": [
       "<Figure size 1000x700 with 2 Axes>"
      ]
     },
     "metadata": {},
     "output_type": "display_data"
    }
   ],
   "source": [
    "corr = scaled_df.corr()\n",
    "\n",
    "plt.figure(figsize=(10,7))\n",
    "\n",
    "#plot the heatmap\n",
    "sns.heatmap(corr)"
   ]
  },
  {
   "cell_type": "markdown",
   "id": "0629b832",
   "metadata": {
    "papermill": {
     "duration": 0.013047,
     "end_time": "2023-05-02T12:28:51.375695",
     "exception": false,
     "start_time": "2023-05-02T12:28:51.362648",
     "status": "completed"
    },
    "tags": []
   },
   "source": [
    "Now let's split the dataset into train and test sets.\n",
    "\n",
    "## Splitting Train and Test Data"
   ]
  },
  {
   "cell_type": "code",
   "execution_count": 16,
   "id": "ee9ed323",
   "metadata": {
    "execution": {
     "iopub.execute_input": "2023-05-02T12:28:51.403728Z",
     "iopub.status.busy": "2023-05-02T12:28:51.403109Z",
     "iopub.status.idle": "2023-05-02T12:28:51.528352Z",
     "shell.execute_reply": "2023-05-02T12:28:51.527111Z"
    },
    "papermill": {
     "duration": 0.142336,
     "end_time": "2023-05-02T12:28:51.531087",
     "exception": false,
     "start_time": "2023-05-02T12:28:51.388751",
     "status": "completed"
    },
    "tags": []
   },
   "outputs": [],
   "source": [
    "from sklearn.model_selection import train_test_split\n",
    "\n",
    "X = scaled_df.iloc[:,:-1]\n",
    "y = scaled_df['label']\n",
    "\n",
    "X_train, X_test, y_train, y_test = train_test_split(X.to_numpy(), y.to_numpy(), test_size=0.20, random_state=42)"
   ]
  },
  {
   "cell_type": "code",
   "execution_count": 17,
   "id": "6e573423",
   "metadata": {
    "execution": {
     "iopub.execute_input": "2023-05-02T12:28:51.558272Z",
     "iopub.status.busy": "2023-05-02T12:28:51.557875Z",
     "iopub.status.idle": "2023-05-02T12:28:52.122990Z",
     "shell.execute_reply": "2023-05-02T12:28:52.121880Z"
    },
    "papermill": {
     "duration": 0.581929,
     "end_time": "2023-05-02T12:28:52.125776",
     "exception": false,
     "start_time": "2023-05-02T12:28:51.543847",
     "status": "completed"
    },
    "tags": []
   },
   "outputs": [],
   "source": [
    "\n",
    "from sklearn.ensemble import RandomForestClassifier\n",
    "from sklearn.linear_model import LogisticRegression\n",
    "from sklearn.metrics import accuracy_score\n",
    "from sklearn.metrics import f1_score\n",
    "from sklearn.metrics import precision_score\n",
    "from sklearn.metrics import recall_score\n",
    "from sklearn.inspection import permutation_importance\n",
    "\n",
    "from yellowbrick.classifier import ConfusionMatrix\n",
    "from sklearn.model_selection import GridSearchCV,  RepeatedStratifiedKFold"
   ]
  },
  {
   "cell_type": "code",
   "execution_count": 18,
   "id": "c3186fd6",
   "metadata": {
    "execution": {
     "iopub.execute_input": "2023-05-02T12:28:52.153169Z",
     "iopub.status.busy": "2023-05-02T12:28:52.152771Z",
     "iopub.status.idle": "2023-05-02T12:28:52.159721Z",
     "shell.execute_reply": "2023-05-02T12:28:52.158538Z"
    },
    "papermill": {
     "duration": 0.023373,
     "end_time": "2023-05-02T12:28:52.161915",
     "exception": false,
     "start_time": "2023-05-02T12:28:52.138542",
     "status": "completed"
    },
    "tags": []
   },
   "outputs": [],
   "source": [
    "\n",
    "\"\"\"\n",
    "    Create functions to fit and predict the values of whether customer would complete the booking.\n",
    "    Also functions with metrics to evaluate the model prediction.\n",
    "\n",
    "\"\"\"\n",
    "\n",
    "def model_fit_predict(model, X, y, X_predict):\n",
    "    model.fit(X, y)\n",
    "    return model.predict(X_predict)\n",
    "\n",
    "def acc_score(y_true, y_pred):\n",
    "    return accuracy_score(y_true, y_pred)\n",
    "\n",
    "def pre_score(y_true, y_pred):\n",
    "    return precision_score(y_true, y_pred)\n",
    "\n",
    "def f_score(y_true, y_pred):\n",
    "    return f1_score(y_true, y_pred)"
   ]
  },
  {
   "cell_type": "markdown",
   "id": "529b35cc",
   "metadata": {
    "papermill": {
     "duration": 0.012702,
     "end_time": "2023-05-02T12:28:52.187105",
     "exception": false,
     "start_time": "2023-05-02T12:28:52.174403",
     "status": "completed"
    },
    "tags": []
   },
   "source": [
    "# Random Forest Classifier"
   ]
  },
  {
   "cell_type": "code",
   "execution_count": 19,
   "id": "5d6f92e5",
   "metadata": {
    "execution": {
     "iopub.execute_input": "2023-05-02T12:28:52.214091Z",
     "iopub.status.busy": "2023-05-02T12:28:52.213504Z",
     "iopub.status.idle": "2023-05-02T12:28:52.218169Z",
     "shell.execute_reply": "2023-05-02T12:28:52.217038Z"
    },
    "papermill": {
     "duration": 0.020942,
     "end_time": "2023-05-02T12:28:52.220602",
     "exception": false,
     "start_time": "2023-05-02T12:28:52.199660",
     "status": "completed"
    },
    "tags": []
   },
   "outputs": [],
   "source": [
    "#create an instance of the classifier and fit the training data\n",
    "clf_rf = RandomForestClassifier(max_depth =50 , min_samples_split=5,random_state=0)\n"
   ]
  },
  {
   "cell_type": "code",
   "execution_count": null,
   "id": "1119001b",
   "metadata": {
    "papermill": {
     "duration": 0.013668,
     "end_time": "2023-05-02T12:28:52.246658",
     "exception": false,
     "start_time": "2023-05-02T12:28:52.232990",
     "status": "completed"
    },
    "tags": []
   },
   "outputs": [],
   "source": []
  },
  {
   "cell_type": "markdown",
   "id": "6c2cf86f",
   "metadata": {
    "papermill": {
     "duration": 0.012037,
     "end_time": "2023-05-02T12:28:52.271277",
     "exception": false,
     "start_time": "2023-05-02T12:28:52.259240",
     "status": "completed"
    },
    "tags": []
   },
   "source": [
    "### Checking Training accuracy"
   ]
  },
  {
   "cell_type": "code",
   "execution_count": 20,
   "id": "719bd6c8",
   "metadata": {
    "execution": {
     "iopub.execute_input": "2023-05-02T12:28:52.298681Z",
     "iopub.status.busy": "2023-05-02T12:28:52.297456Z",
     "iopub.status.idle": "2023-05-02T12:28:58.566893Z",
     "shell.execute_reply": "2023-05-02T12:28:58.565280Z"
    },
    "papermill": {
     "duration": 6.285633,
     "end_time": "2023-05-02T12:28:58.569342",
     "exception": false,
     "start_time": "2023-05-02T12:28:52.283709",
     "status": "completed"
    },
    "tags": []
   },
   "outputs": [
    {
     "name": "stdout",
     "output_type": "stream",
     "text": [
      "Accuracy, precision and f1-score for training data are 0.93, 1.0 and 0.72 respectively\n"
     ]
    }
   ],
   "source": [
    "y_pred_train = model_fit_predict(clf_rf, X_train, y_train, X_train)\n",
    "set(y_pred_train)\n",
    "\n",
    "#f1 score for training data\n",
    "f1 = round(f1_score(y_train, y_pred_train),2) \n",
    "\n",
    "#accuracy score for training data\n",
    "acc = round(accuracy_score(y_train, y_pred_train),2) \n",
    "\n",
    "#precision score for training data\n",
    "pre = round(precision_score(y_train, y_pred_train),2) \n",
    "\n",
    "print(f\"Accuracy, precision and f1-score for training data are {acc}, {pre} and {f1} respectively\")"
   ]
  },
  {
   "cell_type": "code",
   "execution_count": null,
   "id": "260a9ae9",
   "metadata": {
    "papermill": {
     "duration": 0.012143,
     "end_time": "2023-05-02T12:28:58.594271",
     "exception": false,
     "start_time": "2023-05-02T12:28:58.582128",
     "status": "completed"
    },
    "tags": []
   },
   "outputs": [],
   "source": []
  },
  {
   "cell_type": "code",
   "execution_count": 21,
   "id": "71bfa1a3",
   "metadata": {
    "execution": {
     "iopub.execute_input": "2023-05-02T12:28:58.621841Z",
     "iopub.status.busy": "2023-05-02T12:28:58.621151Z",
     "iopub.status.idle": "2023-05-02T12:29:00.713822Z",
     "shell.execute_reply": "2023-05-02T12:29:00.712484Z"
    },
    "papermill": {
     "duration": 2.111074,
     "end_time": "2023-05-02T12:29:00.718316",
     "exception": false,
     "start_time": "2023-05-02T12:28:58.607242",
     "status": "completed"
    },
    "tags": []
   },
   "outputs": [
    {
     "data": {
      "text/plain": [
       "0.9341002876078529"
      ]
     },
     "execution_count": 21,
     "metadata": {},
     "output_type": "execute_result"
    },
    {
     "data": {
      "image/png": "[encoded data removed]",
      "text/plain": [
       "<Figure size 800x550 with 1 Axes>"
      ]
     },
     "metadata": {},
     "output_type": "display_data"
    }
   ],
   "source": [
    "cm = ConfusionMatrix(clf_rf, classes=[0,1])\n",
    "cm.fit(X_train, y_train)\n",
    "\n",
    "cm.score(X_train, y_train)"
   ]
  },
  {
   "cell_type": "markdown",
   "id": "5f0024fe",
   "metadata": {
    "papermill": {
     "duration": 0.017671,
     "end_time": "2023-05-02T12:29:00.768996",
     "exception": false,
     "start_time": "2023-05-02T12:29:00.751325",
     "status": "completed"
    },
    "tags": []
   },
   "source": [
    "### Checking Testing accuracy"
   ]
  },
  {
   "cell_type": "code",
   "execution_count": 22,
   "id": "54450924",
   "metadata": {
    "execution": {
     "iopub.execute_input": "2023-05-02T12:29:00.796800Z",
     "iopub.status.busy": "2023-05-02T12:29:00.796366Z",
     "iopub.status.idle": "2023-05-02T12:29:06.385782Z",
     "shell.execute_reply": "2023-05-02T12:29:06.384646Z"
    },
    "papermill": {
     "duration": 5.605947,
     "end_time": "2023-05-02T12:29:06.388247",
     "exception": false,
     "start_time": "2023-05-02T12:29:00.782300",
     "status": "completed"
    },
    "tags": []
   },
   "outputs": [
    {
     "name": "stdout",
     "output_type": "stream",
     "text": [
      "Accuracy, precision and f1-score for training data are 0.86, 0.56 and 0.07 respectively\n"
     ]
    }
   ],
   "source": [
    "#create an instance of the classifier and fit the training data\n",
    "clf_rf = RandomForestClassifier(max_depth =50 , min_samples_split=5,random_state=0)\n",
    "\n",
    "y_pred_test = model_fit_predict(clf_rf, X_train, y_train, X_test)\n",
    "\n",
    "#f1 score for training data\n",
    "f1 = round(f1_score(y_test, y_pred_test),2) \n",
    "\n",
    "#accuracy score for training data\n",
    "acc = round(accuracy_score(y_test, y_pred_test),2) \n",
    "\n",
    "#precision score for training data\n",
    "pre = round(precision_score(y_test, y_pred_test),2) \n",
    "\n",
    "print(f\"Accuracy, precision and f1-score for training data are {acc}, {pre} and {f1} respectively\")"
   ]
  },
  {
   "cell_type": "code",
   "execution_count": 23,
   "id": "4ad9dd93",
   "metadata": {
    "execution": {
     "iopub.execute_input": "2023-05-02T12:29:06.416894Z",
     "iopub.status.busy": "2023-05-02T12:29:06.416487Z",
     "iopub.status.idle": "2023-05-02T12:29:07.124259Z",
     "shell.execute_reply": "2023-05-02T12:29:07.122339Z"
    },
    "papermill": {
     "duration": 0.728175,
     "end_time": "2023-05-02T12:29:07.129645",
     "exception": false,
     "start_time": "2023-05-02T12:29:06.401470",
     "status": "completed"
    },
    "tags": []
   },
   "outputs": [
    {
     "data": {
      "text/plain": [
       "0.8554566369910973"
      ]
     },
     "execution_count": 23,
     "metadata": {},
     "output_type": "execute_result"
    },
    {
     "data": {
      "image/png": "[encoded data removed]",
      "text/plain": [
       "<Figure size 800x550 with 1 Axes>"
      ]
     },
     "metadata": {},
     "output_type": "display_data"
    }
   ],
   "source": [
    "cm = ConfusionMatrix(clf_rf, classes=[0,1])\n",
    "cm.fit(X_train, y_train)\n",
    "\n",
    "cm.score(X_test, y_test)"
   ]
  },
  {
   "cell_type": "code",
   "execution_count": 24,
   "id": "3a04bd4c",
   "metadata": {
    "execution": {
     "iopub.execute_input": "2023-05-02T12:29:07.178039Z",
     "iopub.status.busy": "2023-05-02T12:29:07.177614Z",
     "iopub.status.idle": "2023-05-02T12:29:07.572613Z",
     "shell.execute_reply": "2023-05-02T12:29:07.571435Z"
    },
    "papermill": {
     "duration": 0.413367,
     "end_time": "2023-05-02T12:29:07.575340",
     "exception": false,
     "start_time": "2023-05-02T12:29:07.161973",
     "status": "completed"
    },
    "tags": []
   },
   "outputs": [
    {
     "data": {
      "text/plain": [
       "Text(0.5, 0, 'Random Forest Feature Importance')"
      ]
     },
     "execution_count": 24,
     "metadata": {},
     "output_type": "execute_result"
    },
    {
     "data": {
      "image/png": "[encoded data removed]",
      "text/plain": [
       "<Figure size 1000x500 with 1 Axes>"
      ]
     },
     "metadata": {},
     "output_type": "display_data"
    }
   ],
   "source": [
    "plt.figure(figsize=(10,5))\n",
    "sorted_idx = clf_rf.feature_importances_.argsort()\n",
    "plt.barh(scaled_df.iloc[:,:-1].columns[sorted_idx], clf_rf.feature_importances_[sorted_idx])\n",
    "plt.xlabel(\"Random Forest Feature Importance\")"
   ]
  },
  {
   "cell_type": "markdown",
   "id": "13c9bd04",
   "metadata": {
    "papermill": {
     "duration": 0.014869,
     "end_time": "2023-05-02T12:29:07.604325",
     "exception": false,
     "start_time": "2023-05-02T12:29:07.589456",
     "status": "completed"
    },
    "tags": []
   },
   "source": [
    "One major problem behind getting low F1 score is imbalanced dataset. We have higher entries that are classified 0 than 1. We could reduce the number of entries that are classified 0 to be equal around the number of entries that are classified as 1. "
   ]
  },
  {
   "cell_type": "markdown",
   "id": "e909e301",
   "metadata": {
    "papermill": {
     "duration": 0.013719,
     "end_time": "2023-05-02T12:29:07.632108",
     "exception": false,
     "start_time": "2023-05-02T12:29:07.618389",
     "status": "completed"
    },
    "tags": []
   },
   "source": [
    "## Balancing the dataset"
   ]
  },
  {
   "cell_type": "code",
   "execution_count": 25,
   "id": "0c61bd1f",
   "metadata": {
    "execution": {
     "iopub.execute_input": "2023-05-02T12:29:07.662016Z",
     "iopub.status.busy": "2023-05-02T12:29:07.661610Z",
     "iopub.status.idle": "2023-05-02T12:29:07.671777Z",
     "shell.execute_reply": "2023-05-02T12:29:07.670673Z"
    },
    "papermill": {
     "duration": 0.027836,
     "end_time": "2023-05-02T12:29:07.674036",
     "exception": false,
     "start_time": "2023-05-02T12:29:07.646200",
     "status": "completed"
    },
    "tags": []
   },
   "outputs": [
    {
     "data": {
      "text/plain": [
       "0    42506\n",
       "1     7476\n",
       "Name: label, dtype: int64"
      ]
     },
     "execution_count": 25,
     "metadata": {},
     "output_type": "execute_result"
    }
   ],
   "source": [
    "scaled_df.label.value_counts()"
   ]
  },
  {
   "cell_type": "code",
   "execution_count": 26,
   "id": "c4e9a198",
   "metadata": {
    "execution": {
     "iopub.execute_input": "2023-05-02T12:29:07.704150Z",
     "iopub.status.busy": "2023-05-02T12:29:07.703767Z",
     "iopub.status.idle": "2023-05-02T12:29:07.716955Z",
     "shell.execute_reply": "2023-05-02T12:29:07.715939Z"
    },
    "papermill": {
     "duration": 0.03112,
     "end_time": "2023-05-02T12:29:07.719402",
     "exception": false,
     "start_time": "2023-05-02T12:29:07.688282",
     "status": "completed"
    },
    "tags": []
   },
   "outputs": [],
   "source": [
    "#create a dataframe having all labels 0 with 10000 samples\n",
    "scaled_df_0 = scaled_df[scaled_df.label ==0].sample(n=8000)"
   ]
  },
  {
   "cell_type": "code",
   "execution_count": 27,
   "id": "aceb6c40",
   "metadata": {
    "execution": {
     "iopub.execute_input": "2023-05-02T12:29:07.749840Z",
     "iopub.status.busy": "2023-05-02T12:29:07.748725Z",
     "iopub.status.idle": "2023-05-02T12:29:07.757302Z",
     "shell.execute_reply": "2023-05-02T12:29:07.756085Z"
    },
    "papermill": {
     "duration": 0.026341,
     "end_time": "2023-05-02T12:29:07.759802",
     "exception": false,
     "start_time": "2023-05-02T12:29:07.733461",
     "status": "completed"
    },
    "tags": []
   },
   "outputs": [],
   "source": [
    "#concatenate the two dataframee, one havng all labels 0 and other having all labels as 1\n",
    "scaled_df_new = pd.concat([scaled_df[scaled_df.label==1], scaled_df_0], ignore_index=True)"
   ]
  },
  {
   "cell_type": "code",
   "execution_count": 28,
   "id": "3b8cca00",
   "metadata": {
    "execution": {
     "iopub.execute_input": "2023-05-02T12:29:07.790915Z",
     "iopub.status.busy": "2023-05-02T12:29:07.790498Z",
     "iopub.status.idle": "2023-05-02T12:29:07.799060Z",
     "shell.execute_reply": "2023-05-02T12:29:07.797902Z"
    },
    "papermill": {
     "duration": 0.026862,
     "end_time": "2023-05-02T12:29:07.801425",
     "exception": false,
     "start_time": "2023-05-02T12:29:07.774563",
     "status": "completed"
    },
    "tags": []
   },
   "outputs": [],
   "source": [
    "#shuffle the dataframe rows\n",
    "scaled_df_new = scaled_df_new.sample(frac = 1).reset_index(drop=True)"
   ]
  },
  {
   "cell_type": "code",
   "execution_count": 29,
   "id": "b3f2a98b",
   "metadata": {
    "execution": {
     "iopub.execute_input": "2023-05-02T12:29:07.831664Z",
     "iopub.status.busy": "2023-05-02T12:29:07.831258Z",
     "iopub.status.idle": "2023-05-02T12:29:07.853874Z",
     "shell.execute_reply": "2023-05-02T12:29:07.853095Z"
    },
    "papermill": {
     "duration": 0.040349,
     "end_time": "2023-05-02T12:29:07.855898",
     "exception": false,
     "start_time": "2023-05-02T12:29:07.815549",
     "status": "completed"
    },
    "tags": []
   },
   "outputs": [
    {
     "data": {
      "text/html": [
       "<div>\n",
       "<style scoped>\n",
       "    .dataframe tbody tr th:only-of-type {\n",
       "        vertical-align: middle;\n",
       "    }\n",
       "\n",
       "    .dataframe tbody tr th {\n",
       "        vertical-align: top;\n",
       "    }\n",
       "\n",
       "    .dataframe thead th {\n",
       "        text-align: right;\n",
       "    }\n",
       "</style>\n",
       "<table border=\"1\" class=\"dataframe\">\n",
       "  <thead>\n",
       "    <tr style=\"text-align: right;\">\n",
       "      <th></th>\n",
       "      <th>num_passengers</th>\n",
       "      <th>purchase_lead</th>\n",
       "      <th>length_of_stay</th>\n",
       "      <th>flight_hour</th>\n",
       "      <th>flight_day</th>\n",
       "      <th>wants_extra_baggage</th>\n",
       "      <th>wants_preferred_seat</th>\n",
       "      <th>wants_in_flight_meals</th>\n",
       "      <th>flight_duration</th>\n",
       "      <th>Internet</th>\n",
       "      <th>Mobile</th>\n",
       "      <th>RoundTRip</th>\n",
       "      <th>OneWayTrip</th>\n",
       "      <th>CircleTrip</th>\n",
       "      <th>label</th>\n",
       "    </tr>\n",
       "  </thead>\n",
       "  <tbody>\n",
       "    <tr>\n",
       "      <th>0</th>\n",
       "      <td>0.400769</td>\n",
       "      <td>-0.419858</td>\n",
       "      <td>-0.532474</td>\n",
       "      <td>0.172685</td>\n",
       "      <td>-0.408618</td>\n",
       "      <td>0.703587</td>\n",
       "      <td>1.538334</td>\n",
       "      <td>1.158002</td>\n",
       "      <td>-1.474687</td>\n",
       "      <td>-2.810681</td>\n",
       "      <td>2.810681</td>\n",
       "      <td>-0.048231</td>\n",
       "      <td>-0.088336</td>\n",
       "      <td>0.100826</td>\n",
       "      <td>0</td>\n",
       "    </tr>\n",
       "    <tr>\n",
       "      <th>1</th>\n",
       "      <td>-0.579424</td>\n",
       "      <td>-0.820204</td>\n",
       "      <td>-0.060390</td>\n",
       "      <td>-0.381588</td>\n",
       "      <td>-1.412280</td>\n",
       "      <td>0.703587</td>\n",
       "      <td>-0.650054</td>\n",
       "      <td>-0.863557</td>\n",
       "      <td>0.870293</td>\n",
       "      <td>0.355786</td>\n",
       "      <td>-0.355786</td>\n",
       "      <td>-0.048231</td>\n",
       "      <td>-0.088336</td>\n",
       "      <td>0.100826</td>\n",
       "      <td>0</td>\n",
       "    </tr>\n",
       "    <tr>\n",
       "      <th>2</th>\n",
       "      <td>1.380962</td>\n",
       "      <td>-0.475462</td>\n",
       "      <td>-0.561979</td>\n",
       "      <td>-1.120618</td>\n",
       "      <td>-0.408618</td>\n",
       "      <td>0.703587</td>\n",
       "      <td>-0.650054</td>\n",
       "      <td>-0.863557</td>\n",
       "      <td>-0.439155</td>\n",
       "      <td>0.355786</td>\n",
       "      <td>-0.355786</td>\n",
       "      <td>-0.048231</td>\n",
       "      <td>-0.088336</td>\n",
       "      <td>0.100826</td>\n",
       "      <td>1</td>\n",
       "    </tr>\n",
       "    <tr>\n",
       "      <th>3</th>\n",
       "      <td>-0.579424</td>\n",
       "      <td>1.259368</td>\n",
       "      <td>-0.502969</td>\n",
       "      <td>0.911715</td>\n",
       "      <td>-0.408618</td>\n",
       "      <td>-1.421288</td>\n",
       "      <td>1.538334</td>\n",
       "      <td>1.158002</td>\n",
       "      <td>-0.439155</td>\n",
       "      <td>0.355786</td>\n",
       "      <td>-0.355786</td>\n",
       "      <td>-0.048231</td>\n",
       "      <td>-0.088336</td>\n",
       "      <td>0.100826</td>\n",
       "      <td>1</td>\n",
       "    </tr>\n",
       "    <tr>\n",
       "      <th>4</th>\n",
       "      <td>-0.579424</td>\n",
       "      <td>-0.675634</td>\n",
       "      <td>-0.591484</td>\n",
       "      <td>0.726958</td>\n",
       "      <td>1.096876</td>\n",
       "      <td>0.703587</td>\n",
       "      <td>-0.650054</td>\n",
       "      <td>-0.863557</td>\n",
       "      <td>0.195526</td>\n",
       "      <td>0.355786</td>\n",
       "      <td>-0.355786</td>\n",
       "      <td>-0.048231</td>\n",
       "      <td>-0.088336</td>\n",
       "      <td>0.100826</td>\n",
       "      <td>0</td>\n",
       "    </tr>\n",
       "    <tr>\n",
       "      <th>...</th>\n",
       "      <td>...</td>\n",
       "      <td>...</td>\n",
       "      <td>...</td>\n",
       "      <td>...</td>\n",
       "      <td>...</td>\n",
       "      <td>...</td>\n",
       "      <td>...</td>\n",
       "      <td>...</td>\n",
       "      <td>...</td>\n",
       "      <td>...</td>\n",
       "      <td>...</td>\n",
       "      <td>...</td>\n",
       "      <td>...</td>\n",
       "      <td>...</td>\n",
       "      <td>...</td>\n",
       "    </tr>\n",
       "    <tr>\n",
       "      <th>15471</th>\n",
       "      <td>-0.579424</td>\n",
       "      <td>-0.030634</td>\n",
       "      <td>0.352683</td>\n",
       "      <td>-1.305376</td>\n",
       "      <td>-0.910449</td>\n",
       "      <td>0.703587</td>\n",
       "      <td>1.538334</td>\n",
       "      <td>1.158002</td>\n",
       "      <td>0.870293</td>\n",
       "      <td>0.355786</td>\n",
       "      <td>-0.355786</td>\n",
       "      <td>-0.048231</td>\n",
       "      <td>-0.088336</td>\n",
       "      <td>0.100826</td>\n",
       "      <td>0</td>\n",
       "    </tr>\n",
       "    <tr>\n",
       "      <th>15472</th>\n",
       "      <td>1.380962</td>\n",
       "      <td>-0.386496</td>\n",
       "      <td>-0.561979</td>\n",
       "      <td>-0.566346</td>\n",
       "      <td>0.595045</td>\n",
       "      <td>0.703587</td>\n",
       "      <td>-0.650054</td>\n",
       "      <td>-0.863557</td>\n",
       "      <td>-1.741921</td>\n",
       "      <td>0.355786</td>\n",
       "      <td>-0.355786</td>\n",
       "      <td>-0.048231</td>\n",
       "      <td>-0.088336</td>\n",
       "      <td>0.100826</td>\n",
       "      <td>1</td>\n",
       "    </tr>\n",
       "    <tr>\n",
       "      <th>15473</th>\n",
       "      <td>-0.579424</td>\n",
       "      <td>-0.297531</td>\n",
       "      <td>-0.502969</td>\n",
       "      <td>0.172685</td>\n",
       "      <td>-1.412280</td>\n",
       "      <td>-1.421288</td>\n",
       "      <td>-0.650054</td>\n",
       "      <td>-0.863557</td>\n",
       "      <td>-1.474687</td>\n",
       "      <td>0.355786</td>\n",
       "      <td>-0.355786</td>\n",
       "      <td>-0.048231</td>\n",
       "      <td>-0.088336</td>\n",
       "      <td>0.100826</td>\n",
       "      <td>0</td>\n",
       "    </tr>\n",
       "    <tr>\n",
       "      <th>15474</th>\n",
       "      <td>-0.579424</td>\n",
       "      <td>-0.886928</td>\n",
       "      <td>-0.561979</td>\n",
       "      <td>0.357443</td>\n",
       "      <td>1.096876</td>\n",
       "      <td>0.703587</td>\n",
       "      <td>-0.650054</td>\n",
       "      <td>-0.863557</td>\n",
       "      <td>-0.185282</td>\n",
       "      <td>-2.810681</td>\n",
       "      <td>2.810681</td>\n",
       "      <td>-0.048231</td>\n",
       "      <td>-0.088336</td>\n",
       "      <td>0.100826</td>\n",
       "      <td>1</td>\n",
       "    </tr>\n",
       "    <tr>\n",
       "      <th>15475</th>\n",
       "      <td>-0.579424</td>\n",
       "      <td>-0.898048</td>\n",
       "      <td>-0.561979</td>\n",
       "      <td>-0.196830</td>\n",
       "      <td>-1.412280</td>\n",
       "      <td>0.703587</td>\n",
       "      <td>-0.650054</td>\n",
       "      <td>1.158002</td>\n",
       "      <td>-0.439155</td>\n",
       "      <td>0.355786</td>\n",
       "      <td>-0.355786</td>\n",
       "      <td>-0.048231</td>\n",
       "      <td>-0.088336</td>\n",
       "      <td>0.100826</td>\n",
       "      <td>1</td>\n",
       "    </tr>\n",
       "  </tbody>\n",
       "</table>\n",
       "<p>15476 rows × 15 columns</p>\n",
       "</div>"
      ],
      "text/plain": [
       "       num_passengers  purchase_lead  length_of_stay  flight_hour  flight_day  \\\n",
       "0            0.400769      -0.419858       -0.532474     0.172685   -0.408618   \n",
       "1           -0.579424      -0.820204       -0.060390    -0.381588   -1.412280   \n",
       "2            1.380962      -0.475462       -0.561979    -1.120618   -0.408618   \n",
       "3           -0.579424       1.259368       -0.502969     0.911715   -0.408618   \n",
       "4           -0.579424      -0.675634       -0.591484     0.726958    1.096876   \n",
       "...               ...            ...             ...          ...         ...   \n",
       "15471       -0.579424      -0.030634        0.352683    -1.305376   -0.910449   \n",
       "15472        1.380962      -0.386496       -0.561979    -0.566346    0.595045   \n",
       "15473       -0.579424      -0.297531       -0.502969     0.172685   -1.412280   \n",
       "15474       -0.579424      -0.886928       -0.561979     0.357443    1.096876   \n",
       "15475       -0.579424      -0.898048       -0.561979    -0.196830   -1.412280   \n",
       "\n",
       "       wants_extra_baggage  wants_preferred_seat  wants_in_flight_meals  \\\n",
       "0                 0.703587              1.538334               1.158002   \n",
       "1                 0.703587             -0.650054              -0.863557   \n",
       "2                 0.703587             -0.650054              -0.863557   \n",
       "3                -1.421288              1.538334               1.158002   \n",
       "4                 0.703587             -0.650054              -0.863557   \n",
       "...                    ...                   ...                    ...   \n",
       "15471             0.703587              1.538334               1.158002   \n",
       "15472             0.703587             -0.650054              -0.863557   \n",
       "15473            -1.421288             -0.650054              -0.863557   \n",
       "15474             0.703587             -0.650054              -0.863557   \n",
       "15475             0.703587             -0.650054               1.158002   \n",
       "\n",
       "       flight_duration  Internet    Mobile  RoundTRip  OneWayTrip  CircleTrip  \\\n",
       "0            -1.474687 -2.810681  2.810681  -0.048231   -0.088336    0.100826   \n",
       "1             0.870293  0.355786 -0.355786  -0.048231   -0.088336    0.100826   \n",
       "2            -0.439155  0.355786 -0.355786  -0.048231   -0.088336    0.100826   \n",
       "3            -0.439155  0.355786 -0.355786  -0.048231   -0.088336    0.100826   \n",
       "4             0.195526  0.355786 -0.355786  -0.048231   -0.088336    0.100826   \n",
       "...                ...       ...       ...        ...         ...         ...   \n",
       "15471         0.870293  0.355786 -0.355786  -0.048231   -0.088336    0.100826   \n",
       "15472        -1.741921  0.355786 -0.355786  -0.048231   -0.088336    0.100826   \n",
       "15473        -1.474687  0.355786 -0.355786  -0.048231   -0.088336    0.100826   \n",
       "15474        -0.185282 -2.810681  2.810681  -0.048231   -0.088336    0.100826   \n",
       "15475        -0.439155  0.355786 -0.355786  -0.048231   -0.088336    0.100826   \n",
       "\n",
       "       label  \n",
       "0          0  \n",
       "1          0  \n",
       "2          1  \n",
       "3          1  \n",
       "4          0  \n",
       "...      ...  \n",
       "15471      0  \n",
       "15472      1  \n",
       "15473      0  \n",
       "15474      1  \n",
       "15475      1  \n",
       "\n",
       "[15476 rows x 15 columns]"
      ]
     },
     "execution_count": 29,
     "metadata": {},
     "output_type": "execute_result"
    }
   ],
   "source": [
    "scaled_df_new"
   ]
  },
  {
   "cell_type": "code",
   "execution_count": 30,
   "id": "3ce7d5fd",
   "metadata": {
    "execution": {
     "iopub.execute_input": "2023-05-02T12:29:07.886801Z",
     "iopub.status.busy": "2023-05-02T12:29:07.886363Z",
     "iopub.status.idle": "2023-05-02T12:29:07.895152Z",
     "shell.execute_reply": "2023-05-02T12:29:07.894141Z"
    },
    "papermill": {
     "duration": 0.02658,
     "end_time": "2023-05-02T12:29:07.897273",
     "exception": false,
     "start_time": "2023-05-02T12:29:07.870693",
     "status": "completed"
    },
    "tags": []
   },
   "outputs": [],
   "source": [
    "X = scaled_df_new.iloc[:,:-1]\n",
    "y = scaled_df_new['label']\n",
    "\n",
    "X_train, X_test, y_train, y_test = train_test_split(X.to_numpy(), y.to_numpy(), test_size=0.20, random_state=42)"
   ]
  },
  {
   "cell_type": "code",
   "execution_count": 31,
   "id": "3318d1d6",
   "metadata": {
    "execution": {
     "iopub.execute_input": "2023-05-02T12:29:07.928663Z",
     "iopub.status.busy": "2023-05-02T12:29:07.928263Z",
     "iopub.status.idle": "2023-05-02T12:29:07.933352Z",
     "shell.execute_reply": "2023-05-02T12:29:07.932212Z"
    },
    "papermill": {
     "duration": 0.02327,
     "end_time": "2023-05-02T12:29:07.935523",
     "exception": false,
     "start_time": "2023-05-02T12:29:07.912253",
     "status": "completed"
    },
    "tags": []
   },
   "outputs": [],
   "source": [
    "#create an instance of the classifier and fit the training data\n",
    "clf_rf = RandomForestClassifier(n_estimators=50,max_depth =50 , min_samples_split=5,random_state=0)"
   ]
  },
  {
   "cell_type": "code",
   "execution_count": 32,
   "id": "ef2b622d",
   "metadata": {
    "execution": {
     "iopub.execute_input": "2023-05-02T12:29:07.966741Z",
     "iopub.status.busy": "2023-05-02T12:29:07.966295Z",
     "iopub.status.idle": "2023-05-02T12:29:08.853852Z",
     "shell.execute_reply": "2023-05-02T12:29:08.852523Z"
    },
    "papermill": {
     "duration": 0.906049,
     "end_time": "2023-05-02T12:29:08.856287",
     "exception": false,
     "start_time": "2023-05-02T12:29:07.950238",
     "status": "completed"
    },
    "tags": []
   },
   "outputs": [
    {
     "name": "stdout",
     "output_type": "stream",
     "text": [
      "Accuracy, precision, recall and f1-score for training data are 0.63, 0.62, 0.59, 0.66 and 0.6 respectively\n"
     ]
    }
   ],
   "source": [
    "y_pred_test = model_fit_predict(clf_rf, X_train, y_train, X_test)\n",
    "\n",
    "#f1 score for training data\n",
    "f1 = round(f1_score(y_test, y_pred_test),2) \n",
    "\n",
    "#accuracy score for training data\n",
    "acc = round(accuracy_score(y_test, y_pred_test),2) \n",
    "\n",
    "#precision score for training data\n",
    "pre = round(precision_score(y_test, y_pred_test),2) \n",
    "\n",
    "recall = round(recall_score(y_test, y_pred_test),2)\n",
    "\n",
    "specificity = round(recall_score(y_test, y_pred_test, pos_label=0),2)\n",
    "\n",
    "print(f\"Accuracy, precision, recall and f1-score for training data are {acc}, {pre}, {recall}, {specificity} and {f1} respectively\") "
   ]
  },
  {
   "cell_type": "code",
   "execution_count": 33,
   "id": "887cc891",
   "metadata": {
    "execution": {
     "iopub.execute_input": "2023-05-02T12:29:08.888567Z",
     "iopub.status.busy": "2023-05-02T12:29:08.887497Z",
     "iopub.status.idle": "2023-05-02T12:29:09.126501Z",
     "shell.execute_reply": "2023-05-02T12:29:09.124932Z"
    },
    "papermill": {
     "duration": 0.259152,
     "end_time": "2023-05-02T12:29:09.130524",
     "exception": false,
     "start_time": "2023-05-02T12:29:08.871372",
     "status": "completed"
    },
    "tags": []
   },
   "outputs": [
    {
     "data": {
      "text/plain": [
       "0.6256459948320413"
      ]
     },
     "execution_count": 33,
     "metadata": {},
     "output_type": "execute_result"
    },
    {
     "data": {
      "image/png": "[encoded data removed]",
      "text/plain": [
       "<Figure size 800x550 with 1 Axes>"
      ]
     },
     "metadata": {},
     "output_type": "display_data"
    }
   ],
   "source": [
    "cm = ConfusionMatrix(clf_rf, classes=[0,1])\n",
    "cm.fit(X_train, y_train)\n",
    "\n",
    "cm.score(X_test, y_test)"
   ]
  },
  {
   "cell_type": "code",
   "execution_count": 34,
   "id": "523d6338",
   "metadata": {
    "execution": {
     "iopub.execute_input": "2023-05-02T12:29:09.186312Z",
     "iopub.status.busy": "2023-05-02T12:29:09.185835Z",
     "iopub.status.idle": "2023-05-02T12:29:09.704448Z",
     "shell.execute_reply": "2023-05-02T12:29:09.703322Z"
    },
    "papermill": {
     "duration": 0.537845,
     "end_time": "2023-05-02T12:29:09.707005",
     "exception": false,
     "start_time": "2023-05-02T12:29:09.169160",
     "status": "completed"
    },
    "tags": []
   },
   "outputs": [
    {
     "data": {
      "text/plain": [
       "Text(0.5, 0, 'Random Forest Feature Importance')"
      ]
     },
     "execution_count": 34,
     "metadata": {},
     "output_type": "execute_result"
    },
    {
     "data": {
      "image/png": "[encoded data removed]",
      "text/plain": [
       "<Figure size 1000x800 with 1 Axes>"
      ]
     },
     "metadata": {},
     "output_type": "display_data"
    }
   ],
   "source": [
    "plt.figure(figsize=(10,8))\n",
    "sorted_idx = clf_rf.feature_importances_.argsort()\n",
    "plt.barh(scaled_df.iloc[:,:-1].columns[sorted_idx], clf_rf.feature_importances_[sorted_idx])\n",
    "plt.xlabel(\"Random Forest Feature Importance\")"
   ]
  },
  {
   "cell_type": "code",
   "execution_count": null,
   "id": "afc6ae78",
   "metadata": {
    "papermill": {
     "duration": 0.015304,
     "end_time": "2023-05-02T12:29:09.738047",
     "exception": false,
     "start_time": "2023-05-02T12:29:09.722743",
     "status": "completed"
    },
    "tags": []
   },
   "outputs": [],
   "source": []
  }
 ],
 "metadata": {
  "kernelspec": {
   "display_name": "Python 3",
   "language": "python",
   "name": "python3"
  },
  "language_info": {
   "codemirror_mode": {
    "name": "ipython",
    "version": 3
   },
   "file_extension": ".py",
   "mimetype": "text/x-python",
   "name": "python",
   "nbconvert_exporter": "python",
   "pygments_lexer": "ipython3",
   "version": "3.10.10"
  },
  "papermill": {
   "default_parameters": {},
   "duration": 33.5939,
   "end_time": "2023-05-02T12:29:10.977727",
   "environment_variables": {},
   "exception": null,
   "input_path": "__notebook__.ipynb",
   "output_path": "__notebook__.ipynb",
   "parameters": {},
   "start_time": "2023-05-02T12:28:37.383827",
   "version": "2.4.0"
  }
 },
 "nbformat": 4,
 "nbformat_minor": 5
}
