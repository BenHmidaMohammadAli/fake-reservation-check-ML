{
 "cells": [
  {
   "cell_type": "markdown",
   "id": "23822d7b",
   "metadata": {
    "papermill": {
     "duration": 0.011803,
     "end_time": "2023-03-04T12:31:51.338925",
     "exception": false,
     "start_time": "2023-03-04T12:31:51.327122",
     "status": "completed"
    },
    "tags": []
   },
   "source": [
    "## Data Cleaning\n",
    "\n",
    "Now since we have extracted data from the website, it is not cleaned and ready to be analyzed yet. The reviews section will need to be cleaned for punctuations, spellings and other characters. "
   ]
  },
  {
   "cell_type": "code",
   "execution_count": 1,
   "id": "d20e9ac9",
   "metadata": {
    "execution": {
     "iopub.execute_input": "2023-03-04T12:31:51.357360Z",
     "iopub.status.busy": "2023-03-04T12:31:51.356368Z",
     "iopub.status.idle": "2023-03-04T12:31:52.436489Z",
     "shell.execute_reply": "2023-03-04T12:31:52.435570Z"
    },
    "papermill": {
     "duration": 1.092773,
     "end_time": "2023-03-04T12:31:52.439574",
     "exception": false,
     "start_time": "2023-03-04T12:31:51.346801",
     "status": "completed"
    },
    "tags": []
   },
   "outputs": [],
   "source": [
    "#imports\n",
    "\n",
    "import pandas as pd\n",
    "import matplotlib.pyplot as plt\n",
    "import seaborn as sns\n",
    "import os\n",
    "\n",
    "#regex\n",
    "import re"
   ]
  },
  {
   "cell_type": "code",
   "execution_count": 2,
   "id": "5a607fc7",
   "metadata": {
    "execution": {
     "iopub.execute_input": "2023-03-04T12:31:52.458219Z",
     "iopub.status.busy": "2023-03-04T12:31:52.457597Z",
     "iopub.status.idle": "2023-03-04T12:31:52.574622Z",
     "shell.execute_reply": "2023-03-04T12:31:52.573681Z"
    },
    "papermill": {
     "duration": 0.129593,
     "end_time": "2023-03-04T12:31:52.577407",
     "exception": false,
     "start_time": "2023-03-04T12:31:52.447814",
     "status": "completed"
    },
    "tags": []
   },
   "outputs": [],
   "source": [
    "#get current working directory\n",
    "\n",
    "cwd = os.getcwd()\n",
    "#create a dataframe from csv file\n",
    "\n",
    "df = pd.read_csv(\"/kaggle/input/airways-customer-data/airline_data.csv\", index_col=0)"
   ]
  },
  {
   "cell_type": "code",
   "execution_count": 3,
   "id": "bea8d62a",
   "metadata": {
    "execution": {
     "iopub.execute_input": "2023-03-04T12:31:52.595918Z",
     "iopub.status.busy": "2023-03-04T12:31:52.595299Z",
     "iopub.status.idle": "2023-03-04T12:31:52.612656Z",
     "shell.execute_reply": "2023-03-04T12:31:52.611775Z"
    },
    "papermill": {
     "duration": 0.031056,
     "end_time": "2023-03-04T12:31:52.616614",
     "exception": false,
     "start_time": "2023-03-04T12:31:52.585558",
     "status": "completed"
    },
    "tags": []
   },
   "outputs": [
    {
     "data": {
      "text/html": [
       "<div>\n",
       "<style scoped>\n",
       "    .dataframe tbody tr th:only-of-type {\n",
       "        vertical-align: middle;\n",
       "    }\n",
       "\n",
       "    .dataframe tbody tr th {\n",
       "        vertical-align: top;\n",
       "    }\n",
       "\n",
       "    .dataframe thead th {\n",
       "        text-align: right;\n",
       "    }\n",
       "</style>\n",
       "<table border=\"1\" class=\"dataframe\">\n",
       "  <thead>\n",
       "    <tr style=\"text-align: right;\">\n",
       "      <th></th>\n",
       "      <th>reviews</th>\n",
       "      <th>rates</th>\n",
       "      <th>date</th>\n",
       "      <th>country</th>\n",
       "    </tr>\n",
       "  </thead>\n",
       "  <tbody>\n",
       "    <tr>\n",
       "      <th>0</th>\n",
       "      <td>✅ Trip Verified | Excellent service both on th...</td>\n",
       "      <td>\\n\\t\\t\\t\\t\\t\\t\\t\\t\\t\\t\\t\\t\\t5</td>\n",
       "      <td>24th January 2023</td>\n",
       "      <td>United Kingdom</td>\n",
       "    </tr>\n",
       "    <tr>\n",
       "      <th>1</th>\n",
       "      <td>✅ Trip Verified |  Good lounge at Cape Town. O...</td>\n",
       "      <td>9</td>\n",
       "      <td>24th January 2023</td>\n",
       "      <td>United Kingdom</td>\n",
       "    </tr>\n",
       "    <tr>\n",
       "      <th>2</th>\n",
       "      <td>✅ Trip Verified |  A really excellent journey....</td>\n",
       "      <td>9</td>\n",
       "      <td>23rd January 2023</td>\n",
       "      <td>United Kingdom</td>\n",
       "    </tr>\n",
       "    <tr>\n",
       "      <th>3</th>\n",
       "      <td>✅ Trip Verified |  This flight was one of the ...</td>\n",
       "      <td>9</td>\n",
       "      <td>21st January 2023</td>\n",
       "      <td>United Kingdom</td>\n",
       "    </tr>\n",
       "    <tr>\n",
       "      <th>4</th>\n",
       "      <td>Not Verified | It seems that there is a race t...</td>\n",
       "      <td>2</td>\n",
       "      <td>19th January 2023</td>\n",
       "      <td>United States</td>\n",
       "    </tr>\n",
       "  </tbody>\n",
       "</table>\n",
       "</div>"
      ],
      "text/plain": [
       "                                             reviews  \\\n",
       "0  ✅ Trip Verified | Excellent service both on th...   \n",
       "1  ✅ Trip Verified |  Good lounge at Cape Town. O...   \n",
       "2  ✅ Trip Verified |  A really excellent journey....   \n",
       "3  ✅ Trip Verified |  This flight was one of the ...   \n",
       "4  Not Verified | It seems that there is a race t...   \n",
       "\n",
       "                           rates               date         country  \n",
       "0  \\n\\t\\t\\t\\t\\t\\t\\t\\t\\t\\t\\t\\t\\t5  24th January 2023  United Kingdom  \n",
       "1                              9  24th January 2023  United Kingdom  \n",
       "2                              9  23rd January 2023  United Kingdom  \n",
       "3                              9  21st January 2023  United Kingdom  \n",
       "4                              2  19th January 2023   United States  "
      ]
     },
     "execution_count": 3,
     "metadata": {},
     "output_type": "execute_result"
    }
   ],
   "source": [
    "df.head()"
   ]
  },
  {
   "cell_type": "markdown",
   "id": "529bf002",
   "metadata": {
    "papermill": {
     "duration": 0.008182,
     "end_time": "2023-03-04T12:31:52.633364",
     "exception": false,
     "start_time": "2023-03-04T12:31:52.625182",
     "status": "completed"
    },
    "tags": []
   },
   "source": [
    "We will also create a column which mentions if the user is verified or not. "
   ]
  },
  {
   "cell_type": "code",
   "execution_count": 4,
   "id": "856debe1",
   "metadata": {
    "execution": {
     "iopub.execute_input": "2023-03-04T12:31:52.652693Z",
     "iopub.status.busy": "2023-03-04T12:31:52.651677Z",
     "iopub.status.idle": "2023-03-04T12:31:52.663984Z",
     "shell.execute_reply": "2023-03-04T12:31:52.663010Z"
    },
    "papermill": {
     "duration": 0.025076,
     "end_time": "2023-03-04T12:31:52.666865",
     "exception": false,
     "start_time": "2023-03-04T12:31:52.641789",
     "status": "completed"
    },
    "tags": []
   },
   "outputs": [],
   "source": [
    "df['verified'] = df.reviews.str.contains(\"Trip Verified\")"
   ]
  },
  {
   "cell_type": "code",
   "execution_count": 5,
   "id": "ad965d1e",
   "metadata": {
    "execution": {
     "iopub.execute_input": "2023-03-04T12:31:52.687387Z",
     "iopub.status.busy": "2023-03-04T12:31:52.686651Z",
     "iopub.status.idle": "2023-03-04T12:31:52.694465Z",
     "shell.execute_reply": "2023-03-04T12:31:52.693649Z"
    },
    "papermill": {
     "duration": 0.019995,
     "end_time": "2023-03-04T12:31:52.696577",
     "exception": false,
     "start_time": "2023-03-04T12:31:52.676582",
     "status": "completed"
    },
    "tags": []
   },
   "outputs": [
    {
     "data": {
      "text/plain": [
       "0        True\n",
       "1        True\n",
       "2        True\n",
       "3        True\n",
       "4       False\n",
       "        ...  \n",
       "3413    False\n",
       "3414    False\n",
       "3415    False\n",
       "3416    False\n",
       "3417    False\n",
       "Name: verified, Length: 3418, dtype: bool"
      ]
     },
     "execution_count": 5,
     "metadata": {},
     "output_type": "execute_result"
    }
   ],
   "source": [
    "df['verified']"
   ]
  },
  {
   "cell_type": "markdown",
   "id": "7d0db40b",
   "metadata": {
    "papermill": {
     "duration": 0.008289,
     "end_time": "2023-03-04T12:31:52.713454",
     "exception": false,
     "start_time": "2023-03-04T12:31:52.705165",
     "status": "completed"
    },
    "tags": []
   },
   "source": [
    "### Cleaning Reviews"
   ]
  },
  {
   "cell_type": "markdown",
   "id": "769e8031",
   "metadata": {
    "papermill": {
     "duration": 0.008186,
     "end_time": "2023-03-04T12:31:52.730187",
     "exception": false,
     "start_time": "2023-03-04T12:31:52.722001",
     "status": "completed"
    },
    "tags": []
   },
   "source": [
    "We will extract the column of reviews into a separate dataframe and clean it for semantic analysis"
   ]
  },
  {
   "cell_type": "code",
   "execution_count": 6,
   "id": "0ce2de10",
   "metadata": {
    "execution": {
     "iopub.execute_input": "2023-03-04T12:31:52.749344Z",
     "iopub.status.busy": "2023-03-04T12:31:52.748909Z",
     "iopub.status.idle": "2023-03-04T12:33:17.916860Z",
     "shell.execute_reply": "2023-03-04T12:33:17.915377Z"
    },
    "papermill": {
     "duration": 85.181196,
     "end_time": "2023-03-04T12:33:17.920032",
     "exception": false,
     "start_time": "2023-03-04T12:31:52.738836",
     "status": "completed"
    },
    "tags": []
   },
   "outputs": [],
   "source": [
    "#for lemmatization of words we will use nltk library\n",
    "from nltk.stem import WordNetLemmatizer\n",
    "from nltk.corpus import stopwords\n",
    "lemma = WordNetLemmatizer()\n",
    "\n",
    "\n",
    "reviews_data = df.reviews.str.strip(\"✅ Trip Verified |\")\n",
    "\n",
    "#create an empty list to collect cleaned data corpus\n",
    "comments =[]\n",
    "\n",
    "#loop through each review, remove punctuations, small case it, join it and add it to corpus\n",
    "for rev in reviews_data:\n",
    "    rev = re.sub('[^a-zA-Z]',' ', rev)\n",
    "    rev = rev.lower()\n",
    "    rev = rev.split()\n",
    "    rev = [lemma.lemmatize(word) for word in rev if word not in set(stopwords.words(\"english\"))]\n",
    "    rev = \" \".join(rev)\n",
    "    comments.append(rev)"
   ]
  },
  {
   "cell_type": "code",
   "execution_count": 7,
   "id": "b6e8be1b",
   "metadata": {
    "execution": {
     "iopub.execute_input": "2023-03-04T12:33:17.939311Z",
     "iopub.status.busy": "2023-03-04T12:33:17.938838Z",
     "iopub.status.idle": "2023-03-04T12:33:17.946519Z",
     "shell.execute_reply": "2023-03-04T12:33:17.944925Z"
    },
    "papermill": {
     "duration": 0.020164,
     "end_time": "2023-03-04T12:33:17.949226",
     "exception": false,
     "start_time": "2023-03-04T12:33:17.929062",
     "status": "completed"
    },
    "tags": []
   },
   "outputs": [],
   "source": [
    "# add the corpus to the original dataframe\n",
    "\n",
    "df['comments'] = comments"
   ]
  },
  {
   "cell_type": "code",
   "execution_count": 8,
   "id": "8344fab5",
   "metadata": {
    "execution": {
     "iopub.execute_input": "2023-03-04T12:33:17.968266Z",
     "iopub.status.busy": "2023-03-04T12:33:17.967741Z",
     "iopub.status.idle": "2023-03-04T12:33:17.984764Z",
     "shell.execute_reply": "2023-03-04T12:33:17.983461Z"
    },
    "papermill": {
     "duration": 0.02935,
     "end_time": "2023-03-04T12:33:17.987025",
     "exception": false,
     "start_time": "2023-03-04T12:33:17.957675",
     "status": "completed"
    },
    "tags": []
   },
   "outputs": [
    {
     "data": {
      "text/html": [
       "<div>\n",
       "<style scoped>\n",
       "    .dataframe tbody tr th:only-of-type {\n",
       "        vertical-align: middle;\n",
       "    }\n",
       "\n",
       "    .dataframe tbody tr th {\n",
       "        vertical-align: top;\n",
       "    }\n",
       "\n",
       "    .dataframe thead th {\n",
       "        text-align: right;\n",
       "    }\n",
       "</style>\n",
       "<table border=\"1\" class=\"dataframe\">\n",
       "  <thead>\n",
       "    <tr style=\"text-align: right;\">\n",
       "      <th></th>\n",
       "      <th>reviews</th>\n",
       "      <th>rates</th>\n",
       "      <th>date</th>\n",
       "      <th>country</th>\n",
       "      <th>verified</th>\n",
       "      <th>comments</th>\n",
       "    </tr>\n",
       "  </thead>\n",
       "  <tbody>\n",
       "    <tr>\n",
       "      <th>0</th>\n",
       "      <td>✅ Trip Verified | Excellent service both on th...</td>\n",
       "      <td>\\n\\t\\t\\t\\t\\t\\t\\t\\t\\t\\t\\t\\t\\t5</td>\n",
       "      <td>24th January 2023</td>\n",
       "      <td>United Kingdom</td>\n",
       "      <td>True</td>\n",
       "      <td>excellent service ground board first class pro...</td>\n",
       "    </tr>\n",
       "    <tr>\n",
       "      <th>1</th>\n",
       "      <td>✅ Trip Verified |  Good lounge at Cape Town. O...</td>\n",
       "      <td>9</td>\n",
       "      <td>24th January 2023</td>\n",
       "      <td>United Kingdom</td>\n",
       "      <td>True</td>\n",
       "      <td>good lounge cape town time departure drink hig...</td>\n",
       "    </tr>\n",
       "    <tr>\n",
       "      <th>2</th>\n",
       "      <td>✅ Trip Verified |  A really excellent journey....</td>\n",
       "      <td>9</td>\n",
       "      <td>23rd January 2023</td>\n",
       "      <td>United Kingdom</td>\n",
       "      <td>True</td>\n",
       "      <td>really excellent journey lounge overcrowded la...</td>\n",
       "    </tr>\n",
       "    <tr>\n",
       "      <th>3</th>\n",
       "      <td>✅ Trip Verified |  This flight was one of the ...</td>\n",
       "      <td>9</td>\n",
       "      <td>21st January 2023</td>\n",
       "      <td>United Kingdom</td>\n",
       "      <td>True</td>\n",
       "      <td>flight one worst ever life wanted pamper bough...</td>\n",
       "    </tr>\n",
       "    <tr>\n",
       "      <th>4</th>\n",
       "      <td>Not Verified | It seems that there is a race t...</td>\n",
       "      <td>2</td>\n",
       "      <td>19th January 2023</td>\n",
       "      <td>United States</td>\n",
       "      <td>False</td>\n",
       "      <td>verified seems race bottom amongst airline can...</td>\n",
       "    </tr>\n",
       "  </tbody>\n",
       "</table>\n",
       "</div>"
      ],
      "text/plain": [
       "                                             reviews  \\\n",
       "0  ✅ Trip Verified | Excellent service both on th...   \n",
       "1  ✅ Trip Verified |  Good lounge at Cape Town. O...   \n",
       "2  ✅ Trip Verified |  A really excellent journey....   \n",
       "3  ✅ Trip Verified |  This flight was one of the ...   \n",
       "4  Not Verified | It seems that there is a race t...   \n",
       "\n",
       "                           rates               date         country  verified  \\\n",
       "0  \\n\\t\\t\\t\\t\\t\\t\\t\\t\\t\\t\\t\\t\\t5  24th January 2023  United Kingdom      True   \n",
       "1                              9  24th January 2023  United Kingdom      True   \n",
       "2                              9  23rd January 2023  United Kingdom      True   \n",
       "3                              9  21st January 2023  United Kingdom      True   \n",
       "4                              2  19th January 2023   United States     False   \n",
       "\n",
       "                                            comments  \n",
       "0  excellent service ground board first class pro...  \n",
       "1  good lounge cape town time departure drink hig...  \n",
       "2  really excellent journey lounge overcrowded la...  \n",
       "3  flight one worst ever life wanted pamper bough...  \n",
       "4  verified seems race bottom amongst airline can...  "
      ]
     },
     "execution_count": 8,
     "metadata": {},
     "output_type": "execute_result"
    }
   ],
   "source": [
    "df.head()"
   ]
  },
  {
   "cell_type": "markdown",
   "id": "f18c8769",
   "metadata": {
    "papermill": {
     "duration": 0.008004,
     "end_time": "2023-03-04T12:33:18.003371",
     "exception": false,
     "start_time": "2023-03-04T12:33:17.995367",
     "status": "completed"
    },
    "tags": []
   },
   "source": [
    "### Cleaning/Fromat date"
   ]
  },
  {
   "cell_type": "code",
   "execution_count": 9,
   "id": "643ccba2",
   "metadata": {
    "execution": {
     "iopub.execute_input": "2023-03-04T12:33:18.022129Z",
     "iopub.status.busy": "2023-03-04T12:33:18.021609Z",
     "iopub.status.idle": "2023-03-04T12:33:18.031280Z",
     "shell.execute_reply": "2023-03-04T12:33:18.029660Z"
    },
    "papermill": {
     "duration": 0.022113,
     "end_time": "2023-03-04T12:33:18.033739",
     "exception": false,
     "start_time": "2023-03-04T12:33:18.011626",
     "status": "completed"
    },
    "tags": []
   },
   "outputs": [
    {
     "data": {
      "text/plain": [
       "reviews     object\n",
       "rates       object\n",
       "date        object\n",
       "country     object\n",
       "verified      bool\n",
       "comments    object\n",
       "dtype: object"
      ]
     },
     "execution_count": 9,
     "metadata": {},
     "output_type": "execute_result"
    }
   ],
   "source": [
    "df.dtypes"
   ]
  },
  {
   "cell_type": "code",
   "execution_count": 10,
   "id": "f4698d30",
   "metadata": {
    "execution": {
     "iopub.execute_input": "2023-03-04T12:33:18.052482Z",
     "iopub.status.busy": "2023-03-04T12:33:18.052054Z",
     "iopub.status.idle": "2023-03-04T12:33:18.429066Z",
     "shell.execute_reply": "2023-03-04T12:33:18.427593Z"
    },
    "papermill": {
     "duration": 0.389517,
     "end_time": "2023-03-04T12:33:18.431853",
     "exception": false,
     "start_time": "2023-03-04T12:33:18.042336",
     "status": "completed"
    },
    "tags": []
   },
   "outputs": [],
   "source": [
    "# convert the date to datetime format\n",
    "\n",
    "df.date = pd.to_datetime(df.date)"
   ]
  },
  {
   "cell_type": "code",
   "execution_count": 11,
   "id": "72e8a6db",
   "metadata": {
    "execution": {
     "iopub.execute_input": "2023-03-04T12:33:18.450458Z",
     "iopub.status.busy": "2023-03-04T12:33:18.450058Z",
     "iopub.status.idle": "2023-03-04T12:33:18.459886Z",
     "shell.execute_reply": "2023-03-04T12:33:18.458387Z"
    },
    "papermill": {
     "duration": 0.021956,
     "end_time": "2023-03-04T12:33:18.462163",
     "exception": false,
     "start_time": "2023-03-04T12:33:18.440207",
     "status": "completed"
    },
    "tags": []
   },
   "outputs": [
    {
     "data": {
      "text/plain": [
       "0   2023-01-24\n",
       "1   2023-01-24\n",
       "2   2023-01-23\n",
       "3   2023-01-21\n",
       "4   2023-01-19\n",
       "Name: date, dtype: datetime64[ns]"
      ]
     },
     "execution_count": 11,
     "metadata": {},
     "output_type": "execute_result"
    }
   ],
   "source": [
    "df.date.head()"
   ]
  },
  {
   "cell_type": "markdown",
   "id": "cb5cdf2f",
   "metadata": {
    "papermill": {
     "duration": 0.008159,
     "end_time": "2023-03-04T12:33:18.478797",
     "exception": false,
     "start_time": "2023-03-04T12:33:18.470638",
     "status": "completed"
    },
    "tags": []
   },
   "source": [
    "### Cleaning ratings with stars"
   ]
  },
  {
   "cell_type": "code",
   "execution_count": 12,
   "id": "39ca1ddf",
   "metadata": {
    "execution": {
     "iopub.execute_input": "2023-03-04T12:33:18.497920Z",
     "iopub.status.busy": "2023-03-04T12:33:18.497415Z",
     "iopub.status.idle": "2023-03-04T12:33:18.506308Z",
     "shell.execute_reply": "2023-03-04T12:33:18.505064Z"
    },
    "papermill": {
     "duration": 0.021334,
     "end_time": "2023-03-04T12:33:18.508642",
     "exception": false,
     "start_time": "2023-03-04T12:33:18.487308",
     "status": "completed"
    },
    "tags": []
   },
   "outputs": [
    {
     "data": {
      "text/plain": [
       "array(['\\n\\t\\t\\t\\t\\t\\t\\t\\t\\t\\t\\t\\t\\t5', '9', '2', '3', '1', '4', '5', '8',\n",
       "       '6', '7', '10', 'None'], dtype=object)"
      ]
     },
     "execution_count": 12,
     "metadata": {},
     "output_type": "execute_result"
    }
   ],
   "source": [
    "#check for unique values\n",
    "df.rates.unique()"
   ]
  },
  {
   "cell_type": "code",
   "execution_count": 13,
   "id": "a630165a",
   "metadata": {
    "execution": {
     "iopub.execute_input": "2023-03-04T12:33:18.527749Z",
     "iopub.status.busy": "2023-03-04T12:33:18.527334Z",
     "iopub.status.idle": "2023-03-04T12:33:18.535650Z",
     "shell.execute_reply": "2023-03-04T12:33:18.534364Z"
    },
    "papermill": {
     "duration": 0.020959,
     "end_time": "2023-03-04T12:33:18.538107",
     "exception": false,
     "start_time": "2023-03-04T12:33:18.517148",
     "status": "completed"
    },
    "tags": []
   },
   "outputs": [],
   "source": [
    "# remove the \\t and \\n from the ratings\n",
    "df.rates = df.rates.str.strip(\"\\n\\t\\t\\t\\t\\t\\t\\t\\t\\t\\t\\t\\t\\t\")"
   ]
  },
  {
   "cell_type": "code",
   "execution_count": 14,
   "id": "6ef91faf",
   "metadata": {
    "execution": {
     "iopub.execute_input": "2023-03-04T12:33:18.556976Z",
     "iopub.status.busy": "2023-03-04T12:33:18.556593Z",
     "iopub.status.idle": "2023-03-04T12:33:18.567138Z",
     "shell.execute_reply": "2023-03-04T12:33:18.565857Z"
    },
    "papermill": {
     "duration": 0.02284,
     "end_time": "2023-03-04T12:33:18.569537",
     "exception": false,
     "start_time": "2023-03-04T12:33:18.546697",
     "status": "completed"
    },
    "tags": []
   },
   "outputs": [
    {
     "data": {
      "text/plain": [
       "1       745\n",
       "2       385\n",
       "3       380\n",
       "8       344\n",
       "10      303\n",
       "7       297\n",
       "9       293\n",
       "5       255\n",
       "4       232\n",
       "6       179\n",
       "None      5\n",
       "Name: rates, dtype: int64"
      ]
     },
     "execution_count": 14,
     "metadata": {},
     "output_type": "execute_result"
    }
   ],
   "source": [
    "df.rates.value_counts()"
   ]
  },
  {
   "cell_type": "markdown",
   "id": "ea33a9cb",
   "metadata": {
    "papermill": {
     "duration": 0.008351,
     "end_time": "2023-03-04T12:33:18.586948",
     "exception": false,
     "start_time": "2023-03-04T12:33:18.578597",
     "status": "completed"
    },
    "tags": []
   },
   "source": [
    "There are 5 rows having values \"None\" in the ratings. We will drop all these 5 rows. "
   ]
  },
  {
   "cell_type": "code",
   "execution_count": 15,
   "id": "c8bf9dc2",
   "metadata": {
    "execution": {
     "iopub.execute_input": "2023-03-04T12:33:18.606424Z",
     "iopub.status.busy": "2023-03-04T12:33:18.606004Z",
     "iopub.status.idle": "2023-03-04T12:33:18.617935Z",
     "shell.execute_reply": "2023-03-04T12:33:18.616919Z"
    },
    "papermill": {
     "duration": 0.024534,
     "end_time": "2023-03-04T12:33:18.620208",
     "exception": false,
     "start_time": "2023-03-04T12:33:18.595674",
     "status": "completed"
    },
    "tags": []
   },
   "outputs": [],
   "source": [
    "# drop the rows where the value of ratings is None\n",
    "df.drop(df[df.rates == \"None\"].index, axis=0, inplace=True)"
   ]
  },
  {
   "cell_type": "code",
   "execution_count": 16,
   "id": "63021499",
   "metadata": {
    "execution": {
     "iopub.execute_input": "2023-03-04T12:33:18.640471Z",
     "iopub.status.busy": "2023-03-04T12:33:18.639622Z",
     "iopub.status.idle": "2023-03-04T12:33:18.647062Z",
     "shell.execute_reply": "2023-03-04T12:33:18.646112Z"
    },
    "papermill": {
     "duration": 0.020157,
     "end_time": "2023-03-04T12:33:18.649219",
     "exception": false,
     "start_time": "2023-03-04T12:33:18.629062",
     "status": "completed"
    },
    "tags": []
   },
   "outputs": [
    {
     "data": {
      "text/plain": [
       "array(['5', '9', '2', '3', '1', '4', '8', '6', '7', '10'], dtype=object)"
      ]
     },
     "execution_count": 16,
     "metadata": {},
     "output_type": "execute_result"
    }
   ],
   "source": [
    "#check the unique values again\n",
    "df.rates.unique()"
   ]
  },
  {
   "cell_type": "markdown",
   "id": "8b5cbbb3",
   "metadata": {
    "papermill": {
     "duration": 0.008509,
     "end_time": "2023-03-04T12:33:18.666744",
     "exception": false,
     "start_time": "2023-03-04T12:33:18.658235",
     "status": "completed"
    },
    "tags": []
   },
   "source": [
    "## Check for null Values"
   ]
  },
  {
   "cell_type": "code",
   "execution_count": 17,
   "id": "48e2c456",
   "metadata": {
    "execution": {
     "iopub.execute_input": "2023-03-04T12:33:18.688338Z",
     "iopub.status.busy": "2023-03-04T12:33:18.687357Z",
     "iopub.status.idle": "2023-03-04T12:33:18.710067Z",
     "shell.execute_reply": "2023-03-04T12:33:18.708762Z"
    },
    "papermill": {
     "duration": 0.036973,
     "end_time": "2023-03-04T12:33:18.713003",
     "exception": false,
     "start_time": "2023-03-04T12:33:18.676030",
     "status": "completed"
    },
    "tags": []
   },
   "outputs": [
    {
     "data": {
      "text/plain": [
       "reviews  rates  date   country  verified  comments\n",
       "False    False  False  False    False     False       3411\n",
       "                       True     False     False          2\n",
       "dtype: int64"
      ]
     },
     "execution_count": 17,
     "metadata": {},
     "output_type": "execute_result"
    }
   ],
   "source": [
    "df.isnull().value_counts()"
   ]
  },
  {
   "cell_type": "code",
   "execution_count": 18,
   "id": "2485cf50",
   "metadata": {
    "execution": {
     "iopub.execute_input": "2023-03-04T12:33:18.734528Z",
     "iopub.status.busy": "2023-03-04T12:33:18.733989Z",
     "iopub.status.idle": "2023-03-04T12:33:18.744598Z",
     "shell.execute_reply": "2023-03-04T12:33:18.743686Z"
    },
    "papermill": {
     "duration": 0.024543,
     "end_time": "2023-03-04T12:33:18.747054",
     "exception": false,
     "start_time": "2023-03-04T12:33:18.722511",
     "status": "completed"
    },
    "tags": []
   },
   "outputs": [
    {
     "data": {
      "text/plain": [
       "False    3411\n",
       "True        2\n",
       "Name: country, dtype: int64"
      ]
     },
     "execution_count": 18,
     "metadata": {},
     "output_type": "execute_result"
    }
   ],
   "source": [
    "df.country.isnull().value_counts()"
   ]
  },
  {
   "cell_type": "markdown",
   "id": "83752fec",
   "metadata": {
    "papermill": {
     "duration": 0.009302,
     "end_time": "2023-03-04T12:33:18.766256",
     "exception": false,
     "start_time": "2023-03-04T12:33:18.756954",
     "status": "completed"
    },
    "tags": []
   },
   "source": [
    "We have two missing values for country. For this we can just remove those two reviews (rows) from the dataframe. "
   ]
  },
  {
   "cell_type": "code",
   "execution_count": 19,
   "id": "8017c668",
   "metadata": {
    "execution": {
     "iopub.execute_input": "2023-03-04T12:33:18.788458Z",
     "iopub.status.busy": "2023-03-04T12:33:18.787107Z",
     "iopub.status.idle": "2023-03-04T12:33:18.795449Z",
     "shell.execute_reply": "2023-03-04T12:33:18.794438Z"
    },
    "papermill": {
     "duration": 0.022525,
     "end_time": "2023-03-04T12:33:18.798381",
     "exception": false,
     "start_time": "2023-03-04T12:33:18.775856",
     "status": "completed"
    },
    "tags": []
   },
   "outputs": [],
   "source": [
    "#drop the rows using index where the country value is null\n",
    "df.drop(df[df.country.isnull() == True].index, axis=0, inplace=True)"
   ]
  },
  {
   "cell_type": "code",
   "execution_count": 20,
   "id": "8e04a966",
   "metadata": {
    "execution": {
     "iopub.execute_input": "2023-03-04T12:33:18.819401Z",
     "iopub.status.busy": "2023-03-04T12:33:18.818953Z",
     "iopub.status.idle": "2023-03-04T12:33:18.826793Z",
     "shell.execute_reply": "2023-03-04T12:33:18.825461Z"
    },
    "papermill": {
     "duration": 0.021168,
     "end_time": "2023-03-04T12:33:18.829192",
     "exception": false,
     "start_time": "2023-03-04T12:33:18.808024",
     "status": "completed"
    },
    "tags": []
   },
   "outputs": [
    {
     "data": {
      "text/plain": [
       "(3411, 6)"
      ]
     },
     "execution_count": 20,
     "metadata": {},
     "output_type": "execute_result"
    }
   ],
   "source": [
    "df.shape"
   ]
  },
  {
   "cell_type": "code",
   "execution_count": 21,
   "id": "4c0d763f",
   "metadata": {
    "execution": {
     "iopub.execute_input": "2023-03-04T12:33:18.851726Z",
     "iopub.status.busy": "2023-03-04T12:33:18.850966Z",
     "iopub.status.idle": "2023-03-04T12:33:18.866383Z",
     "shell.execute_reply": "2023-03-04T12:33:18.865108Z"
    },
    "papermill": {
     "duration": 0.030213,
     "end_time": "2023-03-04T12:33:18.869448",
     "exception": false,
     "start_time": "2023-03-04T12:33:18.839235",
     "status": "completed"
    },
    "tags": []
   },
   "outputs": [
    {
     "data": {
      "text/plain": [
       "reviews  rates  date   country  verified  comments\n",
       "False    False  False  False    False     False       3411\n",
       "dtype: int64"
      ]
     },
     "execution_count": 21,
     "metadata": {},
     "output_type": "execute_result"
    }
   ],
   "source": [
    "df.isnull().value_counts()"
   ]
  },
  {
   "cell_type": "code",
   "execution_count": 22,
   "id": "ea73427c",
   "metadata": {
    "execution": {
     "iopub.execute_input": "2023-03-04T12:33:18.892353Z",
     "iopub.status.busy": "2023-03-04T12:33:18.890998Z",
     "iopub.status.idle": "2023-03-04T12:33:18.914130Z",
     "shell.execute_reply": "2023-03-04T12:33:18.913215Z"
    },
    "papermill": {
     "duration": 0.036958,
     "end_time": "2023-03-04T12:33:18.916467",
     "exception": false,
     "start_time": "2023-03-04T12:33:18.879509",
     "status": "completed"
    },
    "tags": []
   },
   "outputs": [
    {
     "data": {
      "text/html": [
       "<div>\n",
       "<style scoped>\n",
       "    .dataframe tbody tr th:only-of-type {\n",
       "        vertical-align: middle;\n",
       "    }\n",
       "\n",
       "    .dataframe tbody tr th {\n",
       "        vertical-align: top;\n",
       "    }\n",
       "\n",
       "    .dataframe thead th {\n",
       "        text-align: right;\n",
       "    }\n",
       "</style>\n",
       "<table border=\"1\" class=\"dataframe\">\n",
       "  <thead>\n",
       "    <tr style=\"text-align: right;\">\n",
       "      <th></th>\n",
       "      <th>reviews</th>\n",
       "      <th>rates</th>\n",
       "      <th>date</th>\n",
       "      <th>country</th>\n",
       "      <th>verified</th>\n",
       "      <th>comments</th>\n",
       "    </tr>\n",
       "  </thead>\n",
       "  <tbody>\n",
       "    <tr>\n",
       "      <th>0</th>\n",
       "      <td>✅ Trip Verified | Excellent service both on th...</td>\n",
       "      <td>5</td>\n",
       "      <td>2023-01-24</td>\n",
       "      <td>United Kingdom</td>\n",
       "      <td>True</td>\n",
       "      <td>excellent service ground board first class pro...</td>\n",
       "    </tr>\n",
       "    <tr>\n",
       "      <th>1</th>\n",
       "      <td>✅ Trip Verified |  Good lounge at Cape Town. O...</td>\n",
       "      <td>9</td>\n",
       "      <td>2023-01-24</td>\n",
       "      <td>United Kingdom</td>\n",
       "      <td>True</td>\n",
       "      <td>good lounge cape town time departure drink hig...</td>\n",
       "    </tr>\n",
       "    <tr>\n",
       "      <th>2</th>\n",
       "      <td>✅ Trip Verified |  A really excellent journey....</td>\n",
       "      <td>9</td>\n",
       "      <td>2023-01-23</td>\n",
       "      <td>United Kingdom</td>\n",
       "      <td>True</td>\n",
       "      <td>really excellent journey lounge overcrowded la...</td>\n",
       "    </tr>\n",
       "    <tr>\n",
       "      <th>3</th>\n",
       "      <td>✅ Trip Verified |  This flight was one of the ...</td>\n",
       "      <td>9</td>\n",
       "      <td>2023-01-21</td>\n",
       "      <td>United Kingdom</td>\n",
       "      <td>True</td>\n",
       "      <td>flight one worst ever life wanted pamper bough...</td>\n",
       "    </tr>\n",
       "    <tr>\n",
       "      <th>4</th>\n",
       "      <td>Not Verified | It seems that there is a race t...</td>\n",
       "      <td>2</td>\n",
       "      <td>2023-01-19</td>\n",
       "      <td>United States</td>\n",
       "      <td>False</td>\n",
       "      <td>verified seems race bottom amongst airline can...</td>\n",
       "    </tr>\n",
       "    <tr>\n",
       "      <th>...</th>\n",
       "      <td>...</td>\n",
       "      <td>...</td>\n",
       "      <td>...</td>\n",
       "      <td>...</td>\n",
       "      <td>...</td>\n",
       "      <td>...</td>\n",
       "    </tr>\n",
       "    <tr>\n",
       "      <th>3406</th>\n",
       "      <td>Flew British Airways from Sydney to Venice on ...</td>\n",
       "      <td>6</td>\n",
       "      <td>2014-05-20</td>\n",
       "      <td>Australia</td>\n",
       "      <td>False</td>\n",
       "      <td>flew british airway sydney venice nd april ret...</td>\n",
       "    </tr>\n",
       "    <tr>\n",
       "      <th>3407</th>\n",
       "      <td>Recently for our honeymoon we took advantage o...</td>\n",
       "      <td>10</td>\n",
       "      <td>2014-05-19</td>\n",
       "      <td>United Kingdom</td>\n",
       "      <td>False</td>\n",
       "      <td>recently honeymoon took advantage ba promo fly...</td>\n",
       "    </tr>\n",
       "    <tr>\n",
       "      <th>3408</th>\n",
       "      <td>LGW-Antigua on 29 April and Antigua-LGW on 13 ...</td>\n",
       "      <td>1</td>\n",
       "      <td>2014-05-18</td>\n",
       "      <td>United Kingdom</td>\n",
       "      <td>False</td>\n",
       "      <td>lgw antigua april antigua lgw may boeing start...</td>\n",
       "    </tr>\n",
       "    <tr>\n",
       "      <th>3409</th>\n",
       "      <td>LHR-JTR-LHR. A tale of opposites for BA's new ...</td>\n",
       "      <td>4</td>\n",
       "      <td>2014-05-18</td>\n",
       "      <td>United Kingdom</td>\n",
       "      <td>False</td>\n",
       "      <td>lhr jtr lhr tale opposite ba new route santori...</td>\n",
       "    </tr>\n",
       "    <tr>\n",
       "      <th>3410</th>\n",
       "      <td>Gatwick-Venice return. Two contrasting experie...</td>\n",
       "      <td>2</td>\n",
       "      <td>2014-05-18</td>\n",
       "      <td>United Kingdom</td>\n",
       "      <td>False</td>\n",
       "      <td>gatwick venice return two contrasting experien...</td>\n",
       "    </tr>\n",
       "  </tbody>\n",
       "</table>\n",
       "<p>3411 rows × 6 columns</p>\n",
       "</div>"
      ],
      "text/plain": [
       "                                                reviews rates       date  \\\n",
       "0     ✅ Trip Verified | Excellent service both on th...     5 2023-01-24   \n",
       "1     ✅ Trip Verified |  Good lounge at Cape Town. O...     9 2023-01-24   \n",
       "2     ✅ Trip Verified |  A really excellent journey....     9 2023-01-23   \n",
       "3     ✅ Trip Verified |  This flight was one of the ...     9 2023-01-21   \n",
       "4     Not Verified | It seems that there is a race t...     2 2023-01-19   \n",
       "...                                                 ...   ...        ...   \n",
       "3406  Flew British Airways from Sydney to Venice on ...     6 2014-05-20   \n",
       "3407  Recently for our honeymoon we took advantage o...    10 2014-05-19   \n",
       "3408  LGW-Antigua on 29 April and Antigua-LGW on 13 ...     1 2014-05-18   \n",
       "3409  LHR-JTR-LHR. A tale of opposites for BA's new ...     4 2014-05-18   \n",
       "3410  Gatwick-Venice return. Two contrasting experie...     2 2014-05-18   \n",
       "\n",
       "             country  verified  \\\n",
       "0     United Kingdom      True   \n",
       "1     United Kingdom      True   \n",
       "2     United Kingdom      True   \n",
       "3     United Kingdom      True   \n",
       "4      United States     False   \n",
       "...              ...       ...   \n",
       "3406       Australia     False   \n",
       "3407  United Kingdom     False   \n",
       "3408  United Kingdom     False   \n",
       "3409  United Kingdom     False   \n",
       "3410  United Kingdom     False   \n",
       "\n",
       "                                               comments  \n",
       "0     excellent service ground board first class pro...  \n",
       "1     good lounge cape town time departure drink hig...  \n",
       "2     really excellent journey lounge overcrowded la...  \n",
       "3     flight one worst ever life wanted pamper bough...  \n",
       "4     verified seems race bottom amongst airline can...  \n",
       "...                                                 ...  \n",
       "3406  flew british airway sydney venice nd april ret...  \n",
       "3407  recently honeymoon took advantage ba promo fly...  \n",
       "3408  lgw antigua april antigua lgw may boeing start...  \n",
       "3409  lhr jtr lhr tale opposite ba new route santori...  \n",
       "3410  gatwick venice return two contrasting experien...  \n",
       "\n",
       "[3411 rows x 6 columns]"
      ]
     },
     "execution_count": 22,
     "metadata": {},
     "output_type": "execute_result"
    }
   ],
   "source": [
    "#resetting the index\n",
    "df.reset_index(drop=True)"
   ]
  },
  {
   "cell_type": "markdown",
   "id": "dcd84bc8",
   "metadata": {
    "papermill": {
     "duration": 0.010068,
     "end_time": "2023-03-04T12:33:18.937009",
     "exception": false,
     "start_time": "2023-03-04T12:33:18.926941",
     "status": "completed"
    },
    "tags": []
   },
   "source": [
    "*****"
   ]
  },
  {
   "cell_type": "markdown",
   "id": "fa11f6fc",
   "metadata": {
    "papermill": {
     "duration": 0.009858,
     "end_time": "2023-03-04T12:33:18.957206",
     "exception": false,
     "start_time": "2023-03-04T12:33:18.947348",
     "status": "completed"
    },
    "tags": []
   },
   "source": [
    "Now our data is all cleaned and ready for data visualization and data analysis."
   ]
  },
  {
   "cell_type": "code",
   "execution_count": 23,
   "id": "41ab782c",
   "metadata": {
    "execution": {
     "iopub.execute_input": "2023-03-04T12:33:18.979941Z",
     "iopub.status.busy": "2023-03-04T12:33:18.979323Z",
     "iopub.status.idle": "2023-03-04T12:33:19.126527Z",
     "shell.execute_reply": "2023-03-04T12:33:19.125091Z"
    },
    "papermill": {
     "duration": 0.162075,
     "end_time": "2023-03-04T12:33:19.129617",
     "exception": false,
     "start_time": "2023-03-04T12:33:18.967542",
     "status": "completed"
    },
    "tags": []
   },
   "outputs": [],
   "source": [
    "# export the cleaned data\n",
    "\n",
    "df.to_csv(cwd + \"/cleaned-reviews.csv\")"
   ]
  },
  {
   "cell_type": "code",
   "execution_count": null,
   "id": "66ca49d0",
   "metadata": {
    "papermill": {
     "duration": 0.010549,
     "end_time": "2023-03-04T12:33:19.150450",
     "exception": false,
     "start_time": "2023-03-04T12:33:19.139901",
     "status": "completed"
    },
    "tags": []
   },
   "outputs": [],
   "source": []
  }
 ],
 "metadata": {
  "kernelspec": {
   "display_name": "Python 3",
   "language": "python",
   "name": "python3"
  },
  "language_info": {
   "codemirror_mode": {
    "name": "ipython",
    "version": 3
   },
   "file_extension": ".py",
   "mimetype": "text/x-python",
   "name": "python",
   "nbconvert_exporter": "python",
   "pygments_lexer": "ipython3",
   "version": "3.7.12"
  },
  "papermill": {
   "default_parameters": {},
   "duration": 99.701232,
   "end_time": "2023-03-04T12:33:20.386863",
   "environment_variables": {},
   "exception": null,
   "input_path": "__notebook__.ipynb",
   "output_path": "__notebook__.ipynb",
   "parameters": {},
   "start_time": "2023-03-04T12:31:40.685631",
   "version": "2.3.4"
  }
 },
 "nbformat": 4,
 "nbformat_minor": 5
}
